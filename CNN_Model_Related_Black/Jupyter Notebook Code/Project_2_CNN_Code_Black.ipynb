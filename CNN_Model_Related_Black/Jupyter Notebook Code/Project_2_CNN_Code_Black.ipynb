{
  "cells": [
    {
      "cell_type": "markdown",
      "metadata": {
        "id": "uBYwCqCtEjYP"
      },
      "source": [
        "### Importing required libraries"
      ]
    },
    {
      "cell_type": "code",
      "execution_count": null,
      "metadata": {
        "id": "vs9SfnnnlokY"
      },
      "outputs": [],
      "source": [
        "import tensorflow as tf\n",
        "from tensorflow.keras.layers import Input, Lambda, Dense, Flatten\n",
        "from tensorflow.keras.models import Model\n",
        "from tensorflow.keras.preprocessing import image\n",
        "from tensorflow.keras.preprocessing.image import load_img\n",
        "from tensorflow.keras.models import Sequential\n",
        "from tensorflow.keras.layers import Rescaling, Conv2D, MaxPooling2D, Dense, Flatten, Dropout, BatchNormalization\n",
        "from tensorflow.keras.models import load_model\n",
        "from tensorflow.keras.preprocessing import image\n",
        "from tensorflow.keras.metrics import Precision, Recall, Accuracy\n",
        "import numpy as np\n",
        "import matplotlib.pyplot as plt\n",
        "from sklearn import metrics\n",
        "from tabulate import tabulate"
      ]
    },
    {
      "cell_type": "markdown",
      "metadata": {
        "id": "iJ6CFKaPEVGd"
      },
      "source": [
        "### Declaring the Variables"
      ]
    },
    {
      "cell_type": "code",
      "execution_count": null,
      "metadata": {
        "id": "Za-dL2Aplrlv"
      },
      "outputs": [],
      "source": [
        "IMAGE_SIZE = [256, 256]\n",
        "BATCH_SIZE=16\n",
        "FOLDS=10\n",
        "SCORES_PER_FOLD=[]\n",
        "CLASSES=[\"1-1\",\"1-2\",\"1-4\",\"PURE\"]"
      ]
    },
    {
      "cell_type": "code",
      "execution_count": null,
      "metadata": {
        "id": "sU-YeLLf4iAA"
      },
      "outputs": [],
      "source": [
        "image_dir='/content/drive/MyDrive/Project_2/BLACK_WHITE/BLACK'"
      ]
    },
    {
      "cell_type": "code",
      "execution_count": null,
      "metadata": {
        "id": "OPvQOBPsn5Fo"
      },
      "outputs": [],
      "source": [
        "logdir='/content/drive/MyDrive/Project_2/CNN_Model_Related/CNN_Model_Related_Black/Logs'"
      ]
    },
    {
      "cell_type": "code",
      "execution_count": null,
      "metadata": {
        "id": "Yuwp9t4Sp9-p"
      },
      "outputs": [],
      "source": [
        "model_dir='/content/drive/MyDrive/Project_2/CNN_Model_Related/CNN_Model_Related_Black/Model/'"
      ]
    },
    {
      "cell_type": "code",
      "execution_count": null,
      "metadata": {
        "id": "h_ST2edlv3ZY"
      },
      "outputs": [],
      "source": [
        "tensorboard_callback = tf.keras.callbacks.TensorBoard(log_dir=logdir)"
      ]
    },
    {
      "cell_type": "markdown",
      "metadata": {
        "id": "YPkn5rEDEdAN"
      },
      "source": [
        "### Fetching and Preprocessing the image files"
      ]
    },
    {
      "cell_type": "code",
      "execution_count": null,
      "metadata": {
        "id": "fh6SpJSSEDSa"
      },
      "outputs": [],
      "source": [
        "normalization_layer = tf.keras.layers.Rescaling(1./255)"
      ]
    },
    {
      "cell_type": "code",
      "execution_count": null,
      "metadata": {
        "id": "A-yPCHaZEGZ4",
        "colab": {
          "base_uri": "https://localhost:8080/"
        },
        "outputId": "67e1e16f-a32f-48f8-f7d3-915eb87c2cc0"
      },
      "outputs": [
        {
          "output_type": "stream",
          "name": "stdout",
          "text": [
            "Found 1120 files belonging to 4 classes.\n"
          ]
        }
      ],
      "source": [
        "image_data_set =tf.keras.utils.image_dataset_from_directory(\n",
        "  image_dir,\n",
        "  label_mode='int',\n",
        "  seed=131,\n",
        "  image_size=IMAGE_SIZE,\n",
        "  batch_size=BATCH_SIZE,\n",
        ")"
      ]
    },
    {
      "cell_type": "code",
      "execution_count": null,
      "metadata": {
        "id": "QImbuHT0NFce",
        "colab": {
          "base_uri": "https://localhost:8080/"
        },
        "outputId": "9216a989-2f43-4477-e298-52d64f67e1a0"
      },
      "outputs": [
        {
          "output_type": "stream",
          "name": "stdout",
          "text": [
            "Using 50 sets for Training and Validation\n",
            "Using 20 sets for Testing\n"
          ]
        }
      ],
      "source": [
        "train_val_set=image_data_set.take(50)\n",
        "test_set=image_data_set.skip(50).take(20)\n",
        "print(f'Using {len(train_val_set)} sets for Training and Validation')\n",
        "print(f'Using {len(test_set)} sets for Testing')"
      ]
    },
    {
      "cell_type": "code",
      "execution_count": null,
      "metadata": {
        "id": "sVLUfWNtEYSM"
      },
      "outputs": [],
      "source": [
        "normalized_train_val_set=train_val_set.map(lambda x,y: (normalization_layer(x), y))\n",
        "normalized_testing_set=test_set.map(lambda x,y: (normalization_layer(x), y))\n",
        "\n",
        "# image_batch, labels_batch = next(iter(normalized_training_set))      #<-----the data is fethched in this form: image batch, label batch"
      ]
    },
    {
      "cell_type": "markdown",
      "metadata": {
        "id": "yRpUjvO_EpUm"
      },
      "source": [
        "### Building the CNN Model"
      ]
    },
    {
      "cell_type": "code",
      "execution_count": null,
      "metadata": {
        "id": "tJm9QzZgH-DI"
      },
      "outputs": [],
      "source": [
        "def Build_Model():\n",
        "  model=Sequential()\n",
        "  \n",
        "  model.add(Conv2D(32, (3,3), 1, activation='relu', input_shape=(256,256,3)))\n",
        "  model.add(MaxPooling2D(pool_size=(2,2)))\n",
        "\n",
        "  model.add(Conv2D(64, (3,3), 1, activation='relu'))\n",
        "  model.add(MaxPooling2D())\n",
        "\n",
        "  model.add(Conv2D(64, (3,3), 1, activation='relu'))\n",
        "  model.add(MaxPooling2D())\n",
        "\n",
        "  model.add(Conv2D(128, (3,3), 1, activation='relu'))\n",
        "  model.add(MaxPooling2D(pool_size=(2,2)))\n",
        "\n",
        "  model.add(Flatten())\n",
        "\n",
        "  model.add(Dense(256, activation='relu'))\n",
        "  model.add(Dense(4, activation='sigmoid'))\n",
        "\n",
        "  model.compile(optimizer='adam', loss='sparse_categorical_crossentropy', metrics=['accuracy'])\n",
        "  \n",
        "  return model"
      ]
    },
    {
      "cell_type": "code",
      "execution_count": null,
      "metadata": {
        "id": "YDnLFulroTl1",
        "colab": {
          "base_uri": "https://localhost:8080/"
        },
        "outputId": "ac3e4585-2c36-437d-c81c-14a4283f34f1"
      },
      "outputs": [
        {
          "output_type": "stream",
          "name": "stdout",
          "text": [
            "Model: \"sequential\"\n",
            "_________________________________________________________________\n",
            " Layer (type)                Output Shape              Param #   \n",
            "=================================================================\n",
            " conv2d (Conv2D)             (None, 254, 254, 32)      896       \n",
            "                                                                 \n",
            " max_pooling2d (MaxPooling2D  (None, 127, 127, 32)     0         \n",
            " )                                                               \n",
            "                                                                 \n",
            " conv2d_1 (Conv2D)           (None, 125, 125, 64)      18496     \n",
            "                                                                 \n",
            " max_pooling2d_1 (MaxPooling  (None, 62, 62, 64)       0         \n",
            " 2D)                                                             \n",
            "                                                                 \n",
            " conv2d_2 (Conv2D)           (None, 60, 60, 64)        36928     \n",
            "                                                                 \n",
            " max_pooling2d_2 (MaxPooling  (None, 30, 30, 64)       0         \n",
            " 2D)                                                             \n",
            "                                                                 \n",
            " conv2d_3 (Conv2D)           (None, 28, 28, 128)       73856     \n",
            "                                                                 \n",
            " max_pooling2d_3 (MaxPooling  (None, 14, 14, 128)      0         \n",
            " 2D)                                                             \n",
            "                                                                 \n",
            " flatten (Flatten)           (None, 25088)             0         \n",
            "                                                                 \n",
            " dense (Dense)               (None, 256)               6422784   \n",
            "                                                                 \n",
            " dense_1 (Dense)             (None, 4)                 1028      \n",
            "                                                                 \n",
            "=================================================================\n",
            "Total params: 6,553,988\n",
            "Trainable params: 6,553,988\n",
            "Non-trainable params: 0\n",
            "_________________________________________________________________\n"
          ]
        }
      ],
      "source": [
        "# Summary of the model\n",
        "model=Build_Model()\n",
        "model.summary()"
      ]
    },
    {
      "cell_type": "markdown",
      "metadata": {
        "id": "21T4ffIQEuPG"
      },
      "source": [
        "### Peforming the 10 Fold Cross Validation"
      ]
    },
    {
      "cell_type": "code",
      "execution_count": null,
      "metadata": {
        "id": "otK1Dp9aebg5",
        "colab": {
          "base_uri": "https://localhost:8080/"
        },
        "outputId": "99d66467-82f2-4acf-995c-a33395f051ac"
      },
      "outputs": [
        {
          "output_type": "stream",
          "name": "stdout",
          "text": [
            "Fold 1\n",
            "--------------------------------------------------------------------------------------------\n",
            "Epoch 1/15\n",
            "45/45 [==============================] - 226s 3s/step - loss: 0.7117 - accuracy: 0.6778\n",
            "Epoch 2/15\n",
            "45/45 [==============================] - 3s 57ms/step - loss: 0.3281 - accuracy: 0.8500\n",
            "Epoch 3/15\n",
            "45/45 [==============================] - 3s 58ms/step - loss: 0.3730 - accuracy: 0.8597\n",
            "Epoch 4/15\n",
            "45/45 [==============================] - 5s 80ms/step - loss: 0.2867 - accuracy: 0.8722\n",
            "Epoch 5/15\n",
            "45/45 [==============================] - 3s 54ms/step - loss: 0.3087 - accuracy: 0.8583\n",
            "Epoch 6/15\n",
            "45/45 [==============================] - 3s 56ms/step - loss: 0.3976 - accuracy: 0.8347\n",
            "Epoch 7/15\n",
            "45/45 [==============================] - 5s 88ms/step - loss: 0.3428 - accuracy: 0.8750\n",
            "Epoch 8/15\n",
            "45/45 [==============================] - 3s 57ms/step - loss: 0.3151 - accuracy: 0.8889\n",
            "Epoch 9/15\n",
            "45/45 [==============================] - 3s 55ms/step - loss: 0.2925 - accuracy: 0.8806\n",
            "Epoch 10/15\n",
            "45/45 [==============================] - 3s 58ms/step - loss: 0.2734 - accuracy: 0.8931\n",
            "Epoch 11/15\n",
            "45/45 [==============================] - 5s 81ms/step - loss: 0.2524 - accuracy: 0.9000\n",
            "Epoch 12/15\n",
            "45/45 [==============================] - 3s 56ms/step - loss: 0.2570 - accuracy: 0.8944\n",
            "Epoch 13/15\n",
            "45/45 [==============================] - 3s 57ms/step - loss: 0.1786 - accuracy: 0.9375\n",
            "Epoch 14/15\n",
            "45/45 [==============================] - 4s 62ms/step - loss: 0.1524 - accuracy: 0.9486\n",
            "Epoch 15/15\n",
            "45/45 [==============================] - 3s 56ms/step - loss: 0.2132 - accuracy: 0.9361\n",
            "\n",
            "\n",
            "Evaluating the model\n",
            "\n",
            "\n",
            "5/5 [==============================] - 1s 47ms/step - loss: 0.1549 - accuracy: 0.9500\n",
            "--------------------------------------------------------------------------------------------\n",
            "Fold 2\n",
            "--------------------------------------------------------------------------------------------\n",
            "Epoch 1/15\n",
            "45/45 [==============================] - 7s 73ms/step - loss: 0.7540 - accuracy: 0.6903\n",
            "Epoch 2/15\n",
            "45/45 [==============================] - 5s 97ms/step - loss: 0.3931 - accuracy: 0.8361\n",
            "Epoch 3/15\n",
            "45/45 [==============================] - 4s 72ms/step - loss: 0.4406 - accuracy: 0.8292\n",
            "Epoch 4/15\n",
            "45/45 [==============================] - 4s 73ms/step - loss: 0.3015 - accuracy: 0.8667\n",
            "Epoch 5/15\n",
            "45/45 [==============================] - 5s 110ms/step - loss: 0.2866 - accuracy: 0.8750\n",
            "Epoch 6/15\n",
            "45/45 [==============================] - 4s 73ms/step - loss: 0.2850 - accuracy: 0.8917\n",
            "Epoch 7/15\n",
            "45/45 [==============================] - 4s 74ms/step - loss: 0.2976 - accuracy: 0.8889\n",
            "Epoch 8/15\n",
            "45/45 [==============================] - 5s 88ms/step - loss: 0.1980 - accuracy: 0.9306\n",
            "Epoch 9/15\n",
            "45/45 [==============================] - 4s 73ms/step - loss: 0.1934 - accuracy: 0.9250\n",
            "Epoch 10/15\n",
            "45/45 [==============================] - 4s 91ms/step - loss: 0.1650 - accuracy: 0.9403\n",
            "Epoch 11/15\n",
            "45/45 [==============================] - 4s 76ms/step - loss: 0.1632 - accuracy: 0.9514\n",
            "Epoch 12/15\n",
            "45/45 [==============================] - 4s 73ms/step - loss: 0.1323 - accuracy: 0.9569\n",
            "Epoch 13/15\n",
            "45/45 [==============================] - 5s 109ms/step - loss: 0.4939 - accuracy: 0.8861\n",
            "Epoch 14/15\n",
            "45/45 [==============================] - 4s 73ms/step - loss: 0.2704 - accuracy: 0.8792\n",
            "Epoch 15/15\n",
            "45/45 [==============================] - 5s 98ms/step - loss: 0.1319 - accuracy: 0.9500\n",
            "\n",
            "\n",
            "Evaluating the model\n",
            "\n",
            "\n",
            "5/5 [==============================] - 1s 46ms/step - loss: 0.0688 - accuracy: 0.9875\n",
            "--------------------------------------------------------------------------------------------\n",
            "Fold 3\n",
            "--------------------------------------------------------------------------------------------\n",
            "Epoch 1/15\n",
            "45/45 [==============================] - 6s 74ms/step - loss: 0.6652 - accuracy: 0.7236\n",
            "Epoch 2/15\n",
            "45/45 [==============================] - 6s 121ms/step - loss: 0.3753 - accuracy: 0.8472\n",
            "Epoch 3/15\n",
            "45/45 [==============================] - 4s 79ms/step - loss: 0.3108 - accuracy: 0.8708\n",
            "Epoch 4/15\n",
            "45/45 [==============================] - 5s 111ms/step - loss: 0.3047 - accuracy: 0.8694\n",
            "Epoch 5/15\n",
            "45/45 [==============================] - 4s 77ms/step - loss: 0.3581 - accuracy: 0.8514\n",
            "Epoch 6/15\n",
            "45/45 [==============================] - 5s 111ms/step - loss: 0.2891 - accuracy: 0.8819\n",
            "Epoch 7/15\n",
            "45/45 [==============================] - 4s 78ms/step - loss: 0.2310 - accuracy: 0.9194\n",
            "Epoch 8/15\n",
            "45/45 [==============================] - 4s 79ms/step - loss: 0.2501 - accuracy: 0.8931\n",
            "Epoch 9/15\n",
            "45/45 [==============================] - 5s 89ms/step - loss: 0.2194 - accuracy: 0.9097\n",
            "Epoch 10/15\n",
            "45/45 [==============================] - 4s 78ms/step - loss: 0.1903 - accuracy: 0.9278\n",
            "Epoch 11/15\n",
            "45/45 [==============================] - 4s 85ms/step - loss: 0.1689 - accuracy: 0.9347\n",
            "Epoch 12/15\n",
            "45/45 [==============================] - 4s 86ms/step - loss: 0.5240 - accuracy: 0.8208\n",
            "Epoch 13/15\n",
            "45/45 [==============================] - 4s 75ms/step - loss: 0.2292 - accuracy: 0.9222\n",
            "Epoch 14/15\n",
            "45/45 [==============================] - 5s 96ms/step - loss: 0.3107 - accuracy: 0.8875\n",
            "Epoch 15/15\n",
            "45/45 [==============================] - 5s 88ms/step - loss: 0.1755 - accuracy: 0.9514\n",
            "\n",
            "\n",
            "Evaluating the model\n",
            "\n",
            "\n",
            "5/5 [==============================] - 1s 53ms/step - loss: 0.3675 - accuracy: 0.8625\n",
            "--------------------------------------------------------------------------------------------\n",
            "Fold 4\n",
            "--------------------------------------------------------------------------------------------\n",
            "Epoch 1/15\n",
            "45/45 [==============================] - 7s 103ms/step - loss: 0.6204 - accuracy: 0.7389\n",
            "Epoch 2/15\n",
            "45/45 [==============================] - 5s 93ms/step - loss: 0.3605 - accuracy: 0.8611\n",
            "Epoch 3/15\n",
            "45/45 [==============================] - 4s 82ms/step - loss: 0.2627 - accuracy: 0.8903\n",
            "Epoch 4/15\n",
            "45/45 [==============================] - 5s 95ms/step - loss: 0.2818 - accuracy: 0.8819\n",
            "Epoch 5/15\n",
            "45/45 [==============================] - 5s 101ms/step - loss: 0.7171 - accuracy: 0.7903\n",
            "Epoch 6/15\n",
            "45/45 [==============================] - 4s 82ms/step - loss: 0.3156 - accuracy: 0.8792\n",
            "Epoch 7/15\n",
            "45/45 [==============================] - 5s 103ms/step - loss: 0.2519 - accuracy: 0.8889\n",
            "Epoch 8/15\n",
            "45/45 [==============================] - 4s 86ms/step - loss: 0.4443 - accuracy: 0.8236\n",
            "Epoch 9/15\n",
            "45/45 [==============================] - 4s 82ms/step - loss: 0.2730 - accuracy: 0.8903\n",
            "Epoch 10/15\n",
            "45/45 [==============================] - 6s 117ms/step - loss: 0.2692 - accuracy: 0.8958\n",
            "Epoch 11/15\n",
            "45/45 [==============================] - 4s 80ms/step - loss: 0.3061 - accuracy: 0.8750\n",
            "Epoch 12/15\n",
            "45/45 [==============================] - 4s 81ms/step - loss: 0.2266 - accuracy: 0.9111\n",
            "Epoch 13/15\n",
            "45/45 [==============================] - 6s 117ms/step - loss: 0.1740 - accuracy: 0.9347\n",
            "Epoch 14/15\n",
            "45/45 [==============================] - 4s 80ms/step - loss: 0.2082 - accuracy: 0.9181\n",
            "Epoch 15/15\n",
            "45/45 [==============================] - 4s 82ms/step - loss: 0.1601 - accuracy: 0.9333\n",
            "\n",
            "\n",
            "Evaluating the model\n",
            "\n",
            "\n",
            "5/5 [==============================] - 2s 86ms/step - loss: 0.0693 - accuracy: 0.9500\n",
            "--------------------------------------------------------------------------------------------\n",
            "Fold 5\n",
            "--------------------------------------------------------------------------------------------\n",
            "Epoch 1/15\n",
            "45/45 [==============================] - 6s 82ms/step - loss: 0.5480 - accuracy: 0.7611\n",
            "Epoch 2/15\n",
            "45/45 [==============================] - 6s 112ms/step - loss: 0.4070 - accuracy: 0.8264\n",
            "Epoch 3/15\n",
            "45/45 [==============================] - 4s 85ms/step - loss: 0.2598 - accuracy: 0.8958\n",
            "Epoch 4/15\n",
            "45/45 [==============================] - 4s 91ms/step - loss: 0.4990 - accuracy: 0.7958\n",
            "Epoch 5/15\n",
            "45/45 [==============================] - 5s 101ms/step - loss: 0.3077 - accuracy: 0.8764\n",
            "Epoch 6/15\n",
            "45/45 [==============================] - 4s 85ms/step - loss: 0.3216 - accuracy: 0.8667\n",
            "Epoch 7/15\n",
            "45/45 [==============================] - 5s 97ms/step - loss: 0.2739 - accuracy: 0.8806\n",
            "Epoch 8/15\n",
            "45/45 [==============================] - 5s 105ms/step - loss: 0.2956 - accuracy: 0.8861\n",
            "Epoch 9/15\n",
            "45/45 [==============================] - 5s 107ms/step - loss: 0.2520 - accuracy: 0.9125\n",
            "Epoch 10/15\n",
            "45/45 [==============================] - 5s 93ms/step - loss: 0.2051 - accuracy: 0.9111\n",
            "Epoch 11/15\n",
            "45/45 [==============================] - 4s 86ms/step - loss: 0.2324 - accuracy: 0.9167\n",
            "Epoch 12/15\n",
            "45/45 [==============================] - 6s 122ms/step - loss: 0.1746 - accuracy: 0.9417\n",
            "Epoch 13/15\n",
            "45/45 [==============================] - 4s 85ms/step - loss: 0.2409 - accuracy: 0.9139\n",
            "Epoch 14/15\n",
            "45/45 [==============================] - 6s 123ms/step - loss: 0.2598 - accuracy: 0.9069\n",
            "Epoch 15/15\n",
            "45/45 [==============================] - 4s 86ms/step - loss: 0.1441 - accuracy: 0.9514\n",
            "\n",
            "\n",
            "Evaluating the model\n",
            "\n",
            "\n",
            "5/5 [==============================] - 1s 50ms/step - loss: 0.0350 - accuracy: 1.0000\n",
            "--------------------------------------------------------------------------------------------\n",
            "Fold 6\n",
            "--------------------------------------------------------------------------------------------\n",
            "Epoch 1/15\n",
            "45/45 [==============================] - 8s 129ms/step - loss: 0.6453 - accuracy: 0.6750\n",
            "Epoch 2/15\n",
            "45/45 [==============================] - 4s 91ms/step - loss: 0.2927 - accuracy: 0.8736\n",
            "Epoch 3/15\n",
            "45/45 [==============================] - 6s 125ms/step - loss: 0.3569 - accuracy: 0.8556\n",
            "Epoch 4/15\n",
            "45/45 [==============================] - 4s 90ms/step - loss: 0.3168 - accuracy: 0.8653\n",
            "Epoch 5/15\n",
            "45/45 [==============================] - 6s 127ms/step - loss: 0.2845 - accuracy: 0.8847\n",
            "Epoch 6/15\n",
            "45/45 [==============================] - 4s 93ms/step - loss: 0.2599 - accuracy: 0.8889\n",
            "Epoch 7/15\n",
            "45/45 [==============================] - 6s 122ms/step - loss: 0.3196 - accuracy: 0.8792\n",
            "Epoch 8/15\n",
            "45/45 [==============================] - 4s 92ms/step - loss: 0.3368 - accuracy: 0.8708\n",
            "Epoch 9/15\n",
            "45/45 [==============================] - 5s 99ms/step - loss: 0.2181 - accuracy: 0.9153\n",
            "Epoch 10/15\n",
            "45/45 [==============================] - 5s 104ms/step - loss: 0.2181 - accuracy: 0.9167\n",
            "Epoch 11/15\n",
            "45/45 [==============================] - 6s 124ms/step - loss: 0.1785 - accuracy: 0.9403\n",
            "Epoch 12/15\n",
            "45/45 [==============================] - 4s 90ms/step - loss: 0.2503 - accuracy: 0.9042\n",
            "Epoch 13/15\n",
            "45/45 [==============================] - 6s 127ms/step - loss: 0.2433 - accuracy: 0.9000\n",
            "Epoch 14/15\n",
            "45/45 [==============================] - 4s 88ms/step - loss: 0.7470 - accuracy: 0.8250\n",
            "Epoch 15/15\n",
            "45/45 [==============================] - 5s 99ms/step - loss: 0.3137 - accuracy: 0.8806\n",
            "\n",
            "\n",
            "Evaluating the model\n",
            "\n",
            "\n",
            "5/5 [==============================] - 3s 84ms/step - loss: 0.3219 - accuracy: 0.8500\n",
            "--------------------------------------------------------------------------------------------\n",
            "Fold 7\n",
            "--------------------------------------------------------------------------------------------\n",
            "Epoch 1/15\n",
            "45/45 [==============================] - 7s 97ms/step - loss: 0.7428 - accuracy: 0.6750\n",
            "Epoch 2/15\n",
            "45/45 [==============================] - 6s 129ms/step - loss: 0.4798 - accuracy: 0.8069\n",
            "Epoch 3/15\n",
            "45/45 [==============================] - 5s 96ms/step - loss: 0.3528 - accuracy: 0.8528\n",
            "Epoch 4/15\n",
            "45/45 [==============================] - 6s 131ms/step - loss: 0.3098 - accuracy: 0.8667\n",
            "Epoch 5/15\n",
            "45/45 [==============================] - 5s 95ms/step - loss: 0.2849 - accuracy: 0.8806\n",
            "Epoch 6/15\n",
            "45/45 [==============================] - 6s 130ms/step - loss: 0.3574 - accuracy: 0.8556\n",
            "Epoch 7/15\n",
            "45/45 [==============================] - 5s 94ms/step - loss: 0.2613 - accuracy: 0.8889\n",
            "Epoch 8/15\n",
            "45/45 [==============================] - 5s 97ms/step - loss: 0.2490 - accuracy: 0.9014\n",
            "Epoch 9/15\n",
            "45/45 [==============================] - 6s 121ms/step - loss: 0.2877 - accuracy: 0.8861\n",
            "Epoch 10/15\n",
            "45/45 [==============================] - 5s 95ms/step - loss: 0.2716 - accuracy: 0.8958\n",
            "Epoch 11/15\n",
            "45/45 [==============================] - 6s 121ms/step - loss: 0.4073 - accuracy: 0.8417\n",
            "Epoch 12/15\n",
            "45/45 [==============================] - 5s 96ms/step - loss: 0.2359 - accuracy: 0.9125\n",
            "Epoch 13/15\n",
            "45/45 [==============================] - 6s 129ms/step - loss: 0.2495 - accuracy: 0.9097\n",
            "Epoch 14/15\n",
            "45/45 [==============================] - 5s 97ms/step - loss: 0.2069 - accuracy: 0.9167\n",
            "Epoch 15/15\n",
            "45/45 [==============================] - 5s 102ms/step - loss: 0.2163 - accuracy: 0.9167\n",
            "\n",
            "\n",
            "Evaluating the model\n",
            "\n",
            "\n",
            "5/5 [==============================] - 3s 78ms/step - loss: 0.3920 - accuracy: 0.8875\n",
            "--------------------------------------------------------------------------------------------\n",
            "Fold 8\n",
            "--------------------------------------------------------------------------------------------\n",
            "Epoch 1/15\n",
            "45/45 [==============================] - 7s 98ms/step - loss: 0.6129 - accuracy: 0.7361\n",
            "Epoch 2/15\n",
            "45/45 [==============================] - 5s 109ms/step - loss: 0.3786 - accuracy: 0.8292\n",
            "Epoch 3/15\n",
            "45/45 [==============================] - 5s 99ms/step - loss: 0.2970 - accuracy: 0.8917\n",
            "Epoch 4/15\n",
            "45/45 [==============================] - 6s 134ms/step - loss: 0.3205 - accuracy: 0.8681\n",
            "Epoch 5/15\n",
            "45/45 [==============================] - 5s 99ms/step - loss: 0.4178 - accuracy: 0.8306\n",
            "Epoch 6/15\n",
            "45/45 [==============================] - 5s 103ms/step - loss: 0.3051 - accuracy: 0.8736\n",
            "Epoch 7/15\n",
            "45/45 [==============================] - 6s 124ms/step - loss: 0.2775 - accuracy: 0.8917\n",
            "Epoch 8/15\n",
            "45/45 [==============================] - 6s 120ms/step - loss: 0.2467 - accuracy: 0.8972\n",
            "Epoch 9/15\n",
            "45/45 [==============================] - 5s 110ms/step - loss: 0.2704 - accuracy: 0.9000\n",
            "Epoch 10/15\n",
            "45/45 [==============================] - 5s 101ms/step - loss: 0.2294 - accuracy: 0.9014\n",
            "Epoch 11/15\n",
            "45/45 [==============================] - 6s 135ms/step - loss: 0.1726 - accuracy: 0.9278\n",
            "Epoch 12/15\n",
            "45/45 [==============================] - 5s 100ms/step - loss: 0.7266 - accuracy: 0.7792\n",
            "Epoch 13/15\n",
            "45/45 [==============================] - 5s 108ms/step - loss: 0.2763 - accuracy: 0.8847\n",
            "Epoch 14/15\n",
            "45/45 [==============================] - 6s 123ms/step - loss: 0.2085 - accuracy: 0.9181\n",
            "Epoch 15/15\n",
            "45/45 [==============================] - 5s 100ms/step - loss: 0.2137 - accuracy: 0.9153\n",
            "\n",
            "\n",
            "Evaluating the model\n",
            "\n",
            "\n",
            "5/5 [==============================] - 2s 49ms/step - loss: 0.1874 - accuracy: 0.9250\n",
            "--------------------------------------------------------------------------------------------\n",
            "Fold 9\n",
            "--------------------------------------------------------------------------------------------\n",
            "Epoch 1/15\n",
            "45/45 [==============================] - 8s 106ms/step - loss: 0.6826 - accuracy: 0.7139\n",
            "Epoch 2/15\n",
            "45/45 [==============================] - 5s 107ms/step - loss: 0.4760 - accuracy: 0.8125\n",
            "Epoch 3/15\n",
            "45/45 [==============================] - 6s 131ms/step - loss: 0.4803 - accuracy: 0.8153\n",
            "Epoch 4/15\n",
            "45/45 [==============================] - 6s 121ms/step - loss: 0.2763 - accuracy: 0.8792\n",
            "Epoch 5/15\n",
            "45/45 [==============================] - 5s 104ms/step - loss: 0.2639 - accuracy: 0.9056\n",
            "Epoch 6/15\n",
            "45/45 [==============================] - 6s 138ms/step - loss: 0.2625 - accuracy: 0.8889\n",
            "Epoch 7/15\n",
            "45/45 [==============================] - 5s 103ms/step - loss: 0.3313 - accuracy: 0.8694\n",
            "Epoch 8/15\n",
            "45/45 [==============================] - 6s 117ms/step - loss: 0.2757 - accuracy: 0.8875\n",
            "Epoch 9/15\n",
            "45/45 [==============================] - 5s 104ms/step - loss: 0.2367 - accuracy: 0.9083\n",
            "Epoch 10/15\n",
            "45/45 [==============================] - 6s 137ms/step - loss: 0.2689 - accuracy: 0.8889\n",
            "Epoch 11/15\n",
            "45/45 [==============================] - 5s 104ms/step - loss: 0.2532 - accuracy: 0.9097\n",
            "Epoch 12/15\n",
            "45/45 [==============================] - 6s 138ms/step - loss: 0.2101 - accuracy: 0.9306\n",
            "Epoch 13/15\n",
            "45/45 [==============================] - 5s 105ms/step - loss: 0.2295 - accuracy: 0.9083\n",
            "Epoch 14/15\n",
            "45/45 [==============================] - 6s 131ms/step - loss: 0.2133 - accuracy: 0.9306\n",
            "Epoch 15/15\n",
            "45/45 [==============================] - 5s 104ms/step - loss: 0.1724 - accuracy: 0.9306\n",
            "\n",
            "\n",
            "Evaluating the model\n",
            "\n",
            "\n",
            "5/5 [==============================] - 3s 84ms/step - loss: 0.0891 - accuracy: 0.9750\n",
            "--------------------------------------------------------------------------------------------\n",
            "Fold 10\n",
            "--------------------------------------------------------------------------------------------\n",
            "Epoch 1/15\n",
            "45/45 [==============================] - 6s 58ms/step - loss: 0.7974 - accuracy: 0.6806\n",
            "Epoch 2/15\n",
            "45/45 [==============================] - 3s 64ms/step - loss: 0.4077 - accuracy: 0.8347\n",
            "Epoch 3/15\n",
            "45/45 [==============================] - 3s 66ms/step - loss: 0.3808 - accuracy: 0.8472\n",
            "Epoch 4/15\n",
            "45/45 [==============================] - 3s 58ms/step - loss: 0.3231 - accuracy: 0.8694\n",
            "Epoch 5/15\n",
            "45/45 [==============================] - 3s 58ms/step - loss: 0.3047 - accuracy: 0.8806\n",
            "Epoch 6/15\n",
            "45/45 [==============================] - 4s 83ms/step - loss: 0.2432 - accuracy: 0.9111\n",
            "Epoch 7/15\n",
            "45/45 [==============================] - 3s 57ms/step - loss: 0.2492 - accuracy: 0.8931\n",
            "Epoch 8/15\n",
            "45/45 [==============================] - 3s 57ms/step - loss: 0.3888 - accuracy: 0.8694\n",
            "Epoch 9/15\n",
            "45/45 [==============================] - 4s 73ms/step - loss: 0.3555 - accuracy: 0.8653\n",
            "Epoch 10/15\n",
            "45/45 [==============================] - 3s 58ms/step - loss: 0.2763 - accuracy: 0.9000\n",
            "Epoch 11/15\n",
            "45/45 [==============================] - 3s 58ms/step - loss: 0.2331 - accuracy: 0.9125\n",
            "Epoch 12/15\n",
            "45/45 [==============================] - 4s 82ms/step - loss: 0.2040 - accuracy: 0.9250\n",
            "Epoch 13/15\n",
            "45/45 [==============================] - 3s 60ms/step - loss: 0.2092 - accuracy: 0.9306\n",
            "Epoch 14/15\n",
            "45/45 [==============================] - 3s 56ms/step - loss: 0.3454 - accuracy: 0.9139\n",
            "Epoch 15/15\n",
            "45/45 [==============================] - 3s 57ms/step - loss: 0.4436 - accuracy: 0.8486\n",
            "\n",
            "\n",
            "Evaluating the model\n",
            "\n",
            "\n",
            "5/5 [==============================] - 4s 78ms/step - loss: 0.2593 - accuracy: 0.9000\n",
            "--------------------------------------------------------------------------------------------\n"
          ]
        }
      ],
      "source": [
        "i=0\n",
        "j=5\n",
        "k=45\n",
        "\n",
        "for fold_var in range(0,FOLDS,1):\n",
        "  print(f'Fold {fold_var+1}')\n",
        "  print('--------------------------------------------------------------------------------------------')\n",
        "  training_set1=normalized_train_val_set.take(i)\n",
        "  training_set2=normalized_train_val_set.skip(i+j).take(k)\n",
        "  training_set=training_set1.concatenate(training_set2)\n",
        "  validation_set=normalized_train_val_set.skip(i).take(j)\n",
        "  i=i+5\n",
        "  j=5\n",
        "  k=k-5\n",
        "  \n",
        "  model=Build_Model()\n",
        "  Model_Run = model.fit(\n",
        "    training_set,\n",
        "    epochs=15,\n",
        "    steps_per_epoch=len(training_set),\n",
        "    callbacks=[tensorboard_callback]\n",
        "  )\n",
        "  print('\\n')\n",
        "  print(f'Evaluating the model')\n",
        "  print('\\n')\n",
        "  cur_scores=model.evaluate(validation_set)\n",
        "  cur_scores[0]*=100\n",
        "  cur_scores[1]*=100\n",
        "  cur_scores=[fold_var+1,cur_scores[0],cur_scores[1]]\n",
        "  SCORES_PER_FOLD.append(cur_scores)\n",
        "\n",
        "  model.save(model_dir+'model_'+str(fold_var+1)+'.h5')\n",
        "  print('--------------------------------------------------------------------------------------------')\n",
        "  tf.keras.backend.clear_session()\n"
      ]
    },
    {
      "cell_type": "code",
      "execution_count": null,
      "metadata": {
        "id": "IxXiy2USK3hC",
        "colab": {
          "base_uri": "https://localhost:8080/"
        },
        "outputId": "fd9fa44c-e572-44f7-c931-7b62761d3400"
      },
      "outputs": [
        {
          "output_type": "stream",
          "name": "stdout",
          "text": [
            "+---------------+----------------------+--------------------------+\n",
            "|   Fold Number |   Validation Loss(%) |   Validation Accuracy(%) |\n",
            "+===============+======================+==========================+\n",
            "|             1 |             15.491   |                    95    |\n",
            "+---------------+----------------------+--------------------------+\n",
            "|             2 |              6.87954 |                    98.75 |\n",
            "+---------------+----------------------+--------------------------+\n",
            "|             3 |             36.7544  |                    86.25 |\n",
            "+---------------+----------------------+--------------------------+\n",
            "|             4 |              6.92775 |                    95    |\n",
            "+---------------+----------------------+--------------------------+\n",
            "|             5 |              3.50134 |                   100    |\n",
            "+---------------+----------------------+--------------------------+\n",
            "|             6 |             32.1932  |                    85    |\n",
            "+---------------+----------------------+--------------------------+\n",
            "|             7 |             39.2041  |                    88.75 |\n",
            "+---------------+----------------------+--------------------------+\n",
            "|             8 |             18.7432  |                    92.5  |\n",
            "+---------------+----------------------+--------------------------+\n",
            "|             9 |              8.91089 |                    97.5  |\n",
            "+---------------+----------------------+--------------------------+\n",
            "|            10 |             25.9317  |                    90    |\n",
            "+---------------+----------------------+--------------------------+\n"
          ]
        }
      ],
      "source": [
        "column_headers=['Fold Number','Validation Loss(%)','Validation Accuracy(%)']\n",
        "print(tabulate(SCORES_PER_FOLD, headers=column_headers, tablefmt=\"grid\"))"
      ]
    },
    {
      "cell_type": "markdown",
      "metadata": {
        "id": "Ou_MBkGIG1sd"
      },
      "source": [
        "### Selecting the model with highest accuracy for training"
      ]
    },
    {
      "cell_type": "code",
      "execution_count": null,
      "metadata": {
        "id": "iIj4X_luG1Ce",
        "colab": {
          "base_uri": "https://localhost:8080/"
        },
        "outputId": "d91cf114-f4a7-4c47-c73e-98c1fe4e1eb1"
      },
      "outputs": [
        {
          "output_type": "stream",
          "name": "stdout",
          "text": [
            "The maximum validation accuracy is: 100.0\n",
            "The folds having 100.0 validation accuracy are:\n",
            "5\n",
            "Selecting the model of fold no 5 for fine parameter tuning\n"
          ]
        }
      ],
      "source": [
        "max_acc=SCORES_PER_FOLD[0][2]\n",
        "max_acc_index=[]\n",
        "for i in range(len(SCORES_PER_FOLD)):\n",
        "  if(SCORES_PER_FOLD[i][2]>max_acc):\n",
        "    max_acc=SCORES_PER_FOLD[i][2]\n",
        "print(f'The maximum validation accuracy is: {max_acc}')\n",
        "for i in range(len(SCORES_PER_FOLD)):\n",
        "  if(SCORES_PER_FOLD[i][2]==max_acc):\n",
        "    max_acc_index.append(i)\n",
        "print(f'The folds having {max_acc} validation accuracy are:')\n",
        "for i in range(len(max_acc_index)):\n",
        "  print(max_acc_index[i]+1)\n",
        "\n",
        "result=-1\n",
        "if(len(max_acc_index)>1):\n",
        "    min_loss=SCORES_PER_FOLD[max_acc_index[0]][1]\n",
        "    j=0\n",
        "    result=max_acc_index[0]\n",
        "    while(j<len(max_acc_index)):\n",
        "      index=max_acc_index[j]\n",
        "      if(SCORES_PER_FOLD[index][1]<min_loss):\n",
        "        min_loss=SCORES_PER_FOLD[index][1]\n",
        "        result=index\n",
        "      j+=1\n",
        "else:\n",
        "  result=max_acc_index[0]\n",
        "print(f'Selecting the model of fold no {result+1} for fine parameter tuning')\n",
        "model=load_model(model_dir+'model_'+str(result+1)+'.h5')"
      ]
    },
    {
      "cell_type": "markdown",
      "metadata": {
        "id": "5WyyGpDKsyuK"
      },
      "source": [
        "### Training the model for fine parameter tuning"
      ]
    },
    {
      "cell_type": "code",
      "execution_count": null,
      "metadata": {
        "id": "QXQHGC5ys6Up",
        "colab": {
          "base_uri": "https://localhost:8080/"
        },
        "outputId": "48c0ce47-bf64-4f28-eeb2-bb93e96d1e09"
      },
      "outputs": [
        {
          "output_type": "stream",
          "name": "stdout",
          "text": [
            "Epoch 1/30\n",
            "40/40 [==============================] - 10s 193ms/step - loss: 0.1876 - accuracy: 0.9594 - val_loss: 0.1588 - val_accuracy: 0.9375\n",
            "Epoch 2/30\n",
            "40/40 [==============================] - 5s 117ms/step - loss: 0.2638 - accuracy: 0.9328 - val_loss: 0.1100 - val_accuracy: 0.9750\n",
            "Epoch 3/30\n",
            "40/40 [==============================] - 9s 222ms/step - loss: 0.1410 - accuracy: 0.9484 - val_loss: 0.0445 - val_accuracy: 0.9812\n",
            "Epoch 4/30\n",
            "40/40 [==============================] - 8s 196ms/step - loss: 0.3576 - accuracy: 0.8859 - val_loss: 0.1783 - val_accuracy: 0.9438\n",
            "Epoch 5/30\n",
            "40/40 [==============================] - 6s 135ms/step - loss: 0.1924 - accuracy: 0.9359 - val_loss: 0.1471 - val_accuracy: 0.9500\n",
            "Epoch 6/30\n",
            "40/40 [==============================] - 5s 115ms/step - loss: 0.1239 - accuracy: 0.9609 - val_loss: 0.1027 - val_accuracy: 0.9812\n",
            "Epoch 7/30\n",
            "40/40 [==============================] - 6s 156ms/step - loss: 0.1003 - accuracy: 0.9688 - val_loss: 0.0590 - val_accuracy: 0.9875\n",
            "Epoch 8/30\n",
            "40/40 [==============================] - 5s 118ms/step - loss: 0.0950 - accuracy: 0.9656 - val_loss: 0.0700 - val_accuracy: 0.9812\n",
            "Epoch 9/30\n",
            "40/40 [==============================] - 5s 123ms/step - loss: 0.0910 - accuracy: 0.9781 - val_loss: 0.0566 - val_accuracy: 0.9875\n",
            "Epoch 10/30\n",
            "40/40 [==============================] - 5s 115ms/step - loss: 0.1200 - accuracy: 0.9625 - val_loss: 0.0248 - val_accuracy: 0.9937\n",
            "Epoch 11/30\n",
            "40/40 [==============================] - 6s 155ms/step - loss: 0.2081 - accuracy: 0.9484 - val_loss: 0.0664 - val_accuracy: 0.9625\n",
            "Epoch 12/30\n",
            "40/40 [==============================] - 5s 116ms/step - loss: 0.0676 - accuracy: 0.9828 - val_loss: 0.0210 - val_accuracy: 1.0000\n",
            "Epoch 13/30\n",
            "40/40 [==============================] - 7s 180ms/step - loss: 0.0247 - accuracy: 0.9953 - val_loss: 0.0168 - val_accuracy: 0.9937\n",
            "Epoch 14/30\n",
            "40/40 [==============================] - 5s 120ms/step - loss: 0.0247 - accuracy: 0.9922 - val_loss: 0.0258 - val_accuracy: 0.9937\n",
            "Epoch 15/30\n",
            "40/40 [==============================] - 6s 143ms/step - loss: 0.0308 - accuracy: 0.9922 - val_loss: 0.0241 - val_accuracy: 0.9937\n",
            "Epoch 16/30\n",
            "40/40 [==============================] - 5s 114ms/step - loss: 0.0262 - accuracy: 0.9922 - val_loss: 0.1113 - val_accuracy: 0.9688\n",
            "Epoch 17/30\n",
            "40/40 [==============================] - 6s 155ms/step - loss: 0.0263 - accuracy: 0.9891 - val_loss: 0.0049 - val_accuracy: 1.0000\n",
            "Epoch 18/30\n",
            "40/40 [==============================] - 5s 115ms/step - loss: 0.1440 - accuracy: 0.9578 - val_loss: 0.1598 - val_accuracy: 0.9438\n",
            "Epoch 19/30\n",
            "40/40 [==============================] - 5s 125ms/step - loss: 0.0906 - accuracy: 0.9781 - val_loss: 0.0271 - val_accuracy: 0.9875\n",
            "Epoch 20/30\n",
            "40/40 [==============================] - 5s 116ms/step - loss: 0.0443 - accuracy: 0.9844 - val_loss: 0.0346 - val_accuracy: 0.9875\n",
            "Epoch 21/30\n",
            "40/40 [==============================] - 6s 154ms/step - loss: 0.0260 - accuracy: 0.9906 - val_loss: 0.0166 - val_accuracy: 0.9937\n",
            "Epoch 22/30\n",
            "40/40 [==============================] - 5s 115ms/step - loss: 0.0155 - accuracy: 0.9953 - val_loss: 0.0148 - val_accuracy: 0.9937\n",
            "Epoch 23/30\n",
            "40/40 [==============================] - 6s 153ms/step - loss: 0.0082 - accuracy: 0.9984 - val_loss: 0.0025 - val_accuracy: 1.0000\n",
            "Epoch 24/30\n",
            "40/40 [==============================] - 5s 114ms/step - loss: 0.0052 - accuracy: 0.9984 - val_loss: 0.0034 - val_accuracy: 1.0000\n",
            "Epoch 25/30\n",
            "40/40 [==============================] - 6s 140ms/step - loss: 0.0045 - accuracy: 0.9984 - val_loss: 0.0167 - val_accuracy: 0.9937\n",
            "Epoch 26/30\n",
            "40/40 [==============================] - 5s 117ms/step - loss: 0.0065 - accuracy: 0.9984 - val_loss: 0.0114 - val_accuracy: 0.9937\n",
            "Epoch 27/30\n",
            "40/40 [==============================] - 6s 154ms/step - loss: 0.0055 - accuracy: 0.9969 - val_loss: 0.0192 - val_accuracy: 0.9937\n",
            "Epoch 28/30\n",
            "40/40 [==============================] - 5s 116ms/step - loss: 0.0049 - accuracy: 1.0000 - val_loss: 0.0051 - val_accuracy: 1.0000\n",
            "Epoch 29/30\n",
            "40/40 [==============================] - 6s 151ms/step - loss: 0.0021 - accuracy: 1.0000 - val_loss: 0.0126 - val_accuracy: 0.9937\n",
            "Epoch 30/30\n",
            "40/40 [==============================] - 5s 115ms/step - loss: 0.0022 - accuracy: 1.0000 - val_loss: 0.0022 - val_accuracy: 1.0000\n"
          ]
        }
      ],
      "source": [
        "training_set=normalized_train_val_set.take(40)\n",
        "validation_set=normalized_train_val_set.skip(40).take(10)\n",
        "\n",
        "Cur_Model_Run = model.fit(\n",
        "    training_set,\n",
        "    validation_data=validation_set,\n",
        "    epochs=30,\n",
        "    steps_per_epoch=len(training_set),\n",
        "    validation_steps=len(validation_set),\n",
        "    callbacks=[tensorboard_callback]\n",
        "  )"
      ]
    },
    {
      "cell_type": "markdown",
      "metadata": {
        "id": "dAfpCTCWExrN"
      },
      "source": [
        "### Plotting the performance of the model after fine parameter tuning"
      ]
    },
    {
      "cell_type": "code",
      "execution_count": null,
      "metadata": {
        "id": "Ip0NtKLos4sU",
        "colab": {
          "base_uri": "https://localhost:8080/",
          "height": 619
        },
        "outputId": "66e06683-c6c8-4f09-d031-c84e591ab128"
      },
      "outputs": [
        {
          "output_type": "display_data",
          "data": {
            "text/plain": [
              "<Figure size 1000x600 with 1 Axes>"
            ],
            "image/png": "[encoded data removed]"
          },
          "metadata": {}
        },
        {
          "output_type": "stream",
          "name": "stderr",
          "text": [
            "WARNING:matplotlib.backends.backend_ps:The PostScript backend does not support transparency; partially transparent artists will be rendered opaque.\n"
          ]
        }
      ],
      "source": [
        "# Plotting the loss\n",
        "\n",
        "\n",
        "fig=plt.figure(figsize=(10,6));\n",
        "plt.plot(Cur_Model_Run.history['loss'], color='blue', label='Training Loss')\n",
        "plt.plot(Cur_Model_Run.history['val_loss'], color='red', label='Validation Loss')\n",
        "plt.xlabel(\"Epochs\")\n",
        "plt.ylabel(\"Loss\")\n",
        "fig.suptitle('Loss',fontsize=15)\n",
        "plt.legend()\n",
        "plt.show()\n",
        "fig.savefig('/content/drive/MyDrive/Project_2/CNN_Model_Related/CNN_Model_Related_Black/Loss.eps', format='eps', dpi=600)"
      ]
    },
    {
      "cell_type": "code",
      "execution_count": null,
      "metadata": {
        "id": "Qif0CC2Wx-zq",
        "colab": {
          "base_uri": "https://localhost:8080/",
          "height": 619
        },
        "outputId": "f4773de5-28e2-4c64-cce4-74c9360cc423"
      },
      "outputs": [
        {
          "output_type": "display_data",
          "data": {
            "text/plain": [
              "<Figure size 1000x600 with 1 Axes>"
            ],
            "image/png": "[encoded data removed]"
          },
          "metadata": {}
        },
        {
          "output_type": "stream",
          "name": "stderr",
          "text": [
            "WARNING:matplotlib.backends.backend_ps:The PostScript backend does not support transparency; partially transparent artists will be rendered opaque.\n"
          ]
        }
      ],
      "source": [
        "# Plotting the accuracy\n",
        "\n",
        "\n",
        "fig=plt.figure(figsize=(10,6));\n",
        "plt.plot(Cur_Model_Run.history['accuracy'], color='blue', label='Training Accuracy')\n",
        "plt.plot(Cur_Model_Run.history['val_accuracy'], color='red', label='Validation Accuracy')\n",
        "plt.xlabel(\"Epochs\")\n",
        "plt.ylabel(\"Accuracy\")\n",
        "fig.suptitle('Accuracy',fontsize=15)\n",
        "plt.legend()\n",
        "plt.show()\n",
        "fig.savefig('/content/drive/MyDrive/Project_2/CNN_Model_Related/CNN_Model_Related_Black/Accuracy.eps', format='eps', dpi=600)"
      ]
    },
    {
      "cell_type": "markdown",
      "metadata": {
        "id": "ry0YiEGL4H7v"
      },
      "source": [
        "###Calcualting Precision, Recall, Accuracy and F Score of the Model"
      ]
    },
    {
      "cell_type": "code",
      "execution_count": null,
      "metadata": {
        "id": "7A8M6AA-1KH0"
      },
      "outputs": [],
      "source": [
        "pre = Precision()\n",
        "re = Recall()\n",
        "acc = Accuracy()"
      ]
    },
    {
      "cell_type": "code",
      "execution_count": null,
      "metadata": {
        "id": "JOFrZ_XmgIx0",
        "colab": {
          "base_uri": "https://localhost:8080/"
        },
        "outputId": "2998e850-52d7-46b6-b448-f03cf0f686de"
      },
      "outputs": [
        {
          "output_type": "stream",
          "name": "stdout",
          "text": [
            "1/1 [==============================] - 0s 55ms/step - loss: 3.1272e-04 - accuracy: 1.0000\n",
            "1/1 [==============================] - 0s 122ms/step\n",
            "1/1 [==============================] - 0s 45ms/step - loss: 0.1303 - accuracy: 0.9375\n",
            "1/1 [==============================] - 0s 30ms/step\n",
            "1/1 [==============================] - 0s 40ms/step - loss: 1.0592e-04 - accuracy: 1.0000\n",
            "1/1 [==============================] - 0s 32ms/step\n",
            "1/1 [==============================] - 0s 45ms/step - loss: 2.2042e-05 - accuracy: 1.0000\n",
            "1/1 [==============================] - 0s 25ms/step\n",
            "1/1 [==============================] - 0s 41ms/step - loss: 1.3366e-04 - accuracy: 1.0000\n",
            "1/1 [==============================] - 0s 32ms/step\n",
            "1/1 [==============================] - 0s 41ms/step - loss: 1.4780e-04 - accuracy: 1.0000\n",
            "1/1 [==============================] - 0s 33ms/step\n",
            "1/1 [==============================] - 0s 59ms/step - loss: 0.0195 - accuracy: 1.0000\n",
            "1/1 [==============================] - 0s 44ms/step\n",
            "1/1 [==============================] - 0s 41ms/step - loss: 6.8637e-04 - accuracy: 1.0000\n",
            "1/1 [==============================] - 0s 34ms/step\n",
            "1/1 [==============================] - 0s 43ms/step - loss: 0.0934 - accuracy: 0.9375\n",
            "1/1 [==============================] - 0s 26ms/step\n",
            "1/1 [==============================] - 0s 66ms/step - loss: 0.0031 - accuracy: 1.0000\n",
            "1/1 [==============================] - 0s 41ms/step\n",
            "1/1 [==============================] - 0s 41ms/step - loss: 1.2008e-04 - accuracy: 1.0000\n",
            "1/1 [==============================] - 0s 26ms/step\n",
            "1/1 [==============================] - 0s 38ms/step - loss: 1.8358e-04 - accuracy: 1.0000\n",
            "1/1 [==============================] - 0s 27ms/step\n",
            "1/1 [==============================] - 0s 42ms/step - loss: 0.0012 - accuracy: 1.0000\n",
            "1/1 [==============================] - 0s 26ms/step\n",
            "1/1 [==============================] - 0s 45ms/step - loss: 2.1462e-04 - accuracy: 1.0000\n",
            "1/1 [==============================] - 0s 33ms/step\n",
            "1/1 [==============================] - 0s 40ms/step - loss: 0.0137 - accuracy: 1.0000\n",
            "1/1 [==============================] - 0s 30ms/step\n",
            "1/1 [==============================] - 0s 41ms/step - loss: 4.4506e-04 - accuracy: 1.0000\n",
            "1/1 [==============================] - 0s 27ms/step\n",
            "1/1 [==============================] - 0s 40ms/step - loss: 4.1721e-04 - accuracy: 1.0000\n",
            "1/1 [==============================] - 0s 26ms/step\n",
            "1/1 [==============================] - 0s 41ms/step - loss: 0.0124 - accuracy: 1.0000\n",
            "1/1 [==============================] - 0s 32ms/step\n",
            "1/1 [==============================] - 0s 40ms/step - loss: 3.0265e-04 - accuracy: 1.0000\n",
            "1/1 [==============================] - 0s 27ms/step\n",
            "1/1 [==============================] - 0s 42ms/step - loss: 4.4444e-04 - accuracy: 1.0000\n",
            "1/1 [==============================] - 0s 26ms/step\n"
          ]
        }
      ],
      "source": [
        "True_label=[]\n",
        "Predicted_label=[]\n",
        "score=[]\n",
        "for images,labels in (normalized_testing_set):              \n",
        "  score.append(model.evaluate(images,labels))\n",
        "  for it in range(len(labels)):\n",
        "    True_label.append(labels[it])\n",
        "  pred=model.predict(images)\n",
        "  y_max=[]\n",
        "  for it in range(len(pred)):\n",
        "      y_max.append(np.argmax(pred[it]))\n",
        "      Predicted_label.append(np.argmax(pred[it]))\n",
        "  pre.update_state(labels,y_max)\n",
        "  re.update_state(labels,y_max)\n",
        "  acc.update_state(labels,y_max)"
      ]
    },
    {
      "cell_type": "code",
      "execution_count": null,
      "metadata": {
        "id": "sXaKqak7HO2B"
      },
      "outputs": [],
      "source": [
        "f_score=(2*pre.result().numpy()*re.result().numpy())/(pre.result().numpy()+re.result().numpy())"
      ]
    },
    {
      "cell_type": "code",
      "execution_count": null,
      "metadata": {
        "id": "vXUmWz_3AzUr",
        "colab": {
          "base_uri": "https://localhost:8080/"
        },
        "outputId": "2ccd5f47-afee-435d-8d67-ddbd5eb657e1"
      },
      "outputs": [
        {
          "output_type": "stream",
          "name": "stdout",
          "text": [
            "Precision: 0.995726466178894, Recall: 1.0, Accuracy: 0.9937499761581421, F Score: 0.9978586575397338\n"
          ]
        }
      ],
      "source": [
        "print(f'Precision: {pre.result().numpy()}, Recall: {re.result().numpy()}, Accuracy: {acc.result().numpy()}, F Score: {f_score}')"
      ]
    },
    {
      "cell_type": "code",
      "execution_count": null,
      "metadata": {
        "id": "8mnJ-hQR8lPL",
        "colab": {
          "base_uri": "https://localhost:8080/",
          "height": 821
        },
        "outputId": "8e9bab92-ec88-4646-d93b-adfdc81ed1dd"
      },
      "outputs": [
        {
          "output_type": "display_data",
          "data": {
            "text/plain": [
              "<Figure size 1000x1000 with 2 Axes>"
            ],
            "image/png": "[encoded data removed]"
          },
          "metadata": {}
        }
      ],
      "source": [
        "confusion_matrix=metrics.confusion_matrix(True_label,Predicted_label,normalize='true')\n",
        "cm_display = metrics.ConfusionMatrixDisplay(confusion_matrix = confusion_matrix, display_labels = ['1-1', '1-2','1-4','PURE'])\n",
        "fig, ax = plt.subplots(figsize=(10,10))\n",
        "cm_display.plot(ax=ax)\n",
        "plt.show();\n",
        "fig.savefig('/content/drive/MyDrive/Project_2/CNN_Model_Related/CNN_Model_Related_Black/Confusion_Matrix.eps', format='eps', dpi=600)"
      ]
    },
    {
      "cell_type": "markdown",
      "metadata": {
        "id": "e6cf_9VqFDeE"
      },
      "source": [
        "### Demonstrating how to use the model"
      ]
    },
    {
      "cell_type": "code",
      "execution_count": null,
      "metadata": {
        "id": "VGVArk3JuqIh"
      },
      "outputs": [],
      "source": [
        "img=image.load_img('/content/drive/MyDrive/Project_2/BLACK_WHITE/BLACK/1-2/CR_B_DU_1-2_010.jpg',target_size=(256,256))"
      ]
    },
    {
      "cell_type": "code",
      "execution_count": null,
      "metadata": {
        "id": "mlSEanHNv0yv"
      },
      "outputs": [],
      "source": [
        "x=image.img_to_array(img)"
      ]
    },
    {
      "cell_type": "code",
      "execution_count": null,
      "metadata": {
        "id": "Ytjm1xNNwDiw"
      },
      "outputs": [],
      "source": [
        "x=x/255"
      ]
    },
    {
      "cell_type": "code",
      "execution_count": null,
      "metadata": {
        "id": "O2XVAJk9wEOb",
        "colab": {
          "base_uri": "https://localhost:8080/"
        },
        "outputId": "769e6a16-2f98-4e1f-dc5b-99e736a27de4"
      },
      "outputs": [
        {
          "output_type": "execute_result",
          "data": {
            "text/plain": [
              "(1, 256, 256, 3)"
            ]
          },
          "metadata": {},
          "execution_count": 28
        }
      ],
      "source": [
        "x=np.expand_dims(x,axis=0)\n",
        "x.shape"
      ]
    },
    {
      "cell_type": "code",
      "execution_count": null,
      "metadata": {
        "id": "Z0WCmtaYwGAy",
        "colab": {
          "base_uri": "https://localhost:8080/"
        },
        "outputId": "483bda73-d8d5-43f5-b172-be92f03909f1"
      },
      "outputs": [
        {
          "output_type": "stream",
          "name": "stdout",
          "text": [
            "1/1 [==============================] - 0s 174ms/step\n"
          ]
        }
      ],
      "source": [
        "pred=model.predict(x)"
      ]
    },
    {
      "cell_type": "code",
      "execution_count": null,
      "metadata": {
        "id": "8Wxdt0m8wH0r",
        "colab": {
          "base_uri": "https://localhost:8080/"
        },
        "outputId": "c1342bb8-50e3-406f-aa28-1ab72b98c913"
      },
      "outputs": [
        {
          "output_type": "stream",
          "name": "stdout",
          "text": [
            "[[6.0565919e-05 9.9999857e-01 7.0217037e-01 1.2152867e-16]]\n"
          ]
        }
      ],
      "source": [
        "print(pred)"
      ]
    },
    {
      "cell_type": "code",
      "execution_count": null,
      "metadata": {
        "id": "LLL9i03t1hBo",
        "colab": {
          "base_uri": "https://localhost:8080/"
        },
        "outputId": "f3ede9c1-a739-471a-997a-4db7a1aaf397"
      },
      "outputs": [
        {
          "output_type": "stream",
          "name": "stdout",
          "text": [
            "1-2\n"
          ]
        }
      ],
      "source": [
        "pred_name = CLASSES[np.argmax(pred)]\n",
        "print(pred_name)"
      ]
    }
  ],
  "metadata": {
    "accelerator": "GPU",
    "colab": {
      "provenance": []
    },
    "gpuClass": "standard",
    "kernelspec": {
      "display_name": "Python 3 (ipykernel)",
      "language": "python",
      "name": "python3"
    },
    "language_info": {
      "codemirror_mode": {
        "name": "ipython",
        "version": 3
      },
      "file_extension": ".py",
      "mimetype": "text/x-python",
      "name": "python",
      "nbconvert_exporter": "python",
      "pygments_lexer": "ipython3",
      "version": "3.9.13"
    },
    "vscode": {
      "interpreter": {
        "hash": "b302cdd1e032ee910f5c889c3360c28564c92ad4f326fc3102e39fbe47faee66"
      }
    }
  },
  "nbformat": 4,
  "nbformat_minor": 0
}