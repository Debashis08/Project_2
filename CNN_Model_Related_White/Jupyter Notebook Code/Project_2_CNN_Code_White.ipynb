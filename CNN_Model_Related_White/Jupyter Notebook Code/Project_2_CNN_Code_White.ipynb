{
  "cells": [
    {
      "cell_type": "markdown",
      "metadata": {
        "id": "uBYwCqCtEjYP"
      },
      "source": [
        "### Importing required libraries"
      ]
    },
    {
      "cell_type": "code",
      "execution_count": 2,
      "metadata": {
        "id": "vs9SfnnnlokY"
      },
      "outputs": [],
      "source": [
        "import tensorflow as tf\n",
        "from tensorflow.keras.layers import Input, Lambda, Dense, Flatten\n",
        "from tensorflow.keras.models import Model\n",
        "from tensorflow.keras.preprocessing import image\n",
        "from tensorflow.keras.preprocessing.image import load_img\n",
        "from tensorflow.keras.models import Sequential\n",
        "from tensorflow.keras.layers import Rescaling, Conv2D, MaxPooling2D, Dense, Flatten, Dropout, BatchNormalization\n",
        "from tensorflow.keras.models import load_model\n",
        "from tensorflow.keras.preprocessing import image\n",
        "from tensorflow.keras.metrics import Precision, Recall, Accuracy\n",
        "import numpy as np\n",
        "import matplotlib.pyplot as plt\n",
        "from sklearn import metrics\n",
        "from tabulate import tabulate"
      ]
    },
    {
      "cell_type": "markdown",
      "metadata": {
        "id": "iJ6CFKaPEVGd"
      },
      "source": [
        "### Declaring the Variables"
      ]
    },
    {
      "cell_type": "code",
      "execution_count": 3,
      "metadata": {
        "id": "Za-dL2Aplrlv"
      },
      "outputs": [],
      "source": [
        "IMAGE_SIZE = [256, 256]\n",
        "BATCH_SIZE=16\n",
        "FOLDS=10\n",
        "SCORES_PER_FOLD=[]\n",
        "CLASSES=[\"1-1\",\"1-2\",\"1-4\",\"PURE\"]"
      ]
    },
    {
      "cell_type": "code",
      "execution_count": 4,
      "metadata": {
        "id": "sU-YeLLf4iAA"
      },
      "outputs": [],
      "source": [
        "image_dir='/content/drive/MyDrive/Project_2/BLACK_WHITE/WHITE'"
      ]
    },
    {
      "cell_type": "code",
      "execution_count": 5,
      "metadata": {
        "id": "OPvQOBPsn5Fo"
      },
      "outputs": [],
      "source": [
        "logdir='/content/drive/MyDrive/Project_2/CNN_Model_Related/CNN_Model_Related_White/Logs'"
      ]
    },
    {
      "cell_type": "code",
      "execution_count": 6,
      "metadata": {
        "id": "Yuwp9t4Sp9-p"
      },
      "outputs": [],
      "source": [
        "model_dir='/content/drive/MyDrive/Project_2/CNN_Model_Related/CNN_Model_Related_White/Model/'"
      ]
    },
    {
      "cell_type": "code",
      "execution_count": 7,
      "metadata": {
        "id": "h_ST2edlv3ZY"
      },
      "outputs": [],
      "source": [
        "tensorboard_callback = tf.keras.callbacks.TensorBoard(log_dir=logdir)"
      ]
    },
    {
      "cell_type": "markdown",
      "metadata": {
        "id": "YPkn5rEDEdAN"
      },
      "source": [
        "### Fetching and Preprocessing the image files"
      ]
    },
    {
      "cell_type": "code",
      "execution_count": 8,
      "metadata": {
        "id": "fh6SpJSSEDSa"
      },
      "outputs": [],
      "source": [
        "normalization_layer = tf.keras.layers.Rescaling(1./255)"
      ]
    },
    {
      "cell_type": "code",
      "execution_count": 9,
      "metadata": {
        "id": "A-yPCHaZEGZ4",
        "colab": {
          "base_uri": "https://localhost:8080/"
        },
        "outputId": "a7914805-76b4-4d53-d31c-3bfc5528f4b9"
      },
      "outputs": [
        {
          "output_type": "stream",
          "name": "stdout",
          "text": [
            "Found 1120 files belonging to 4 classes.\n"
          ]
        }
      ],
      "source": [
        "image_data_set =tf.keras.utils.image_dataset_from_directory(\n",
        "  image_dir,\n",
        "  label_mode='int',\n",
        "  seed=131,\n",
        "  image_size=IMAGE_SIZE,\n",
        "  batch_size=BATCH_SIZE,\n",
        ")"
      ]
    },
    {
      "cell_type": "code",
      "execution_count": 10,
      "metadata": {
        "id": "QImbuHT0NFce",
        "colab": {
          "base_uri": "https://localhost:8080/"
        },
        "outputId": "59102a63-0feb-4353-91d7-758457dec5b7"
      },
      "outputs": [
        {
          "output_type": "stream",
          "name": "stdout",
          "text": [
            "Using 50 sets for Training and Validation\n",
            "Using 20 sets for Testing\n"
          ]
        }
      ],
      "source": [
        "train_val_set=image_data_set.take(50)\n",
        "test_set=image_data_set.skip(50).take(20)\n",
        "print(f'Using {len(train_val_set)} sets for Training and Validation')\n",
        "print(f'Using {len(test_set)} sets for Testing')"
      ]
    },
    {
      "cell_type": "code",
      "execution_count": 11,
      "metadata": {
        "id": "sVLUfWNtEYSM"
      },
      "outputs": [],
      "source": [
        "normalized_train_val_set=train_val_set.map(lambda x,y: (normalization_layer(x), y))\n",
        "normalized_testing_set=test_set.map(lambda x,y: (normalization_layer(x), y))\n",
        "\n",
        "# image_batch, labels_batch = next(iter(normalized_training_set))      #<-----the data is fethched in this form: image batch, label batch"
      ]
    },
    {
      "cell_type": "markdown",
      "metadata": {
        "id": "yRpUjvO_EpUm"
      },
      "source": [
        "### Building the CNN Model"
      ]
    },
    {
      "cell_type": "code",
      "execution_count": 12,
      "metadata": {
        "id": "tJm9QzZgH-DI"
      },
      "outputs": [],
      "source": [
        "def Build_Model():\n",
        "  model=Sequential()\n",
        "  \n",
        "  model.add(Conv2D(32, (3,3), 1, activation='relu', input_shape=(256,256,3)))\n",
        "  model.add(MaxPooling2D(pool_size=(2,2)))\n",
        "\n",
        "  model.add(Conv2D(64, (3,3), 1, activation='relu'))\n",
        "  model.add(MaxPooling2D())\n",
        "\n",
        "  model.add(Conv2D(64, (3,3), 1, activation='relu'))\n",
        "  model.add(MaxPooling2D())\n",
        "\n",
        "  model.add(Conv2D(128, (3,3), 1, activation='relu'))\n",
        "  model.add(MaxPooling2D(pool_size=(2,2)))\n",
        "\n",
        "  model.add(Flatten())\n",
        "\n",
        "  model.add(Dense(256, activation='relu'))\n",
        "  model.add(Dense(4, activation='sigmoid'))\n",
        "\n",
        "  model.compile(optimizer='adam', loss='sparse_categorical_crossentropy', metrics=['accuracy'])\n",
        "  \n",
        "  return model"
      ]
    },
    {
      "cell_type": "code",
      "execution_count": 13,
      "metadata": {
        "id": "YDnLFulroTl1",
        "colab": {
          "base_uri": "https://localhost:8080/"
        },
        "outputId": "438cddfc-052a-42fd-9dbe-9fe9af81cf69"
      },
      "outputs": [
        {
          "output_type": "stream",
          "name": "stdout",
          "text": [
            "Model: \"sequential\"\n",
            "_________________________________________________________________\n",
            " Layer (type)                Output Shape              Param #   \n",
            "=================================================================\n",
            " conv2d (Conv2D)             (None, 254, 254, 32)      896       \n",
            "                                                                 \n",
            " max_pooling2d (MaxPooling2D  (None, 127, 127, 32)     0         \n",
            " )                                                               \n",
            "                                                                 \n",
            " conv2d_1 (Conv2D)           (None, 125, 125, 64)      18496     \n",
            "                                                                 \n",
            " max_pooling2d_1 (MaxPooling  (None, 62, 62, 64)       0         \n",
            " 2D)                                                             \n",
            "                                                                 \n",
            " conv2d_2 (Conv2D)           (None, 60, 60, 64)        36928     \n",
            "                                                                 \n",
            " max_pooling2d_2 (MaxPooling  (None, 30, 30, 64)       0         \n",
            " 2D)                                                             \n",
            "                                                                 \n",
            " conv2d_3 (Conv2D)           (None, 28, 28, 128)       73856     \n",
            "                                                                 \n",
            " max_pooling2d_3 (MaxPooling  (None, 14, 14, 128)      0         \n",
            " 2D)                                                             \n",
            "                                                                 \n",
            " flatten (Flatten)           (None, 25088)             0         \n",
            "                                                                 \n",
            " dense (Dense)               (None, 256)               6422784   \n",
            "                                                                 \n",
            " dense_1 (Dense)             (None, 4)                 1028      \n",
            "                                                                 \n",
            "=================================================================\n",
            "Total params: 6,553,988\n",
            "Trainable params: 6,553,988\n",
            "Non-trainable params: 0\n",
            "_________________________________________________________________\n"
          ]
        }
      ],
      "source": [
        "# Summary of the model\n",
        "model=Build_Model()\n",
        "model.summary()"
      ]
    },
    {
      "cell_type": "markdown",
      "metadata": {
        "id": "21T4ffIQEuPG"
      },
      "source": [
        "### Peforming the 10 Fold Cross Validation"
      ]
    },
    {
      "cell_type": "code",
      "execution_count": 14,
      "metadata": {
        "id": "otK1Dp9aebg5",
        "colab": {
          "base_uri": "https://localhost:8080/"
        },
        "outputId": "0326b2a4-c334-4740-a91b-7903f5832253"
      },
      "outputs": [
        {
          "output_type": "stream",
          "name": "stdout",
          "text": [
            "Fold 1\n",
            "--------------------------------------------------------------------------------------------\n",
            "Epoch 1/15\n",
            "45/45 [==============================] - 98s 1s/step - loss: 0.8699 - accuracy: 0.5875\n",
            "Epoch 2/15\n",
            "45/45 [==============================] - 3s 61ms/step - loss: 0.4362 - accuracy: 0.8222\n",
            "Epoch 3/15\n",
            "45/45 [==============================] - 4s 63ms/step - loss: 0.3217 - accuracy: 0.8653\n",
            "Epoch 4/15\n",
            "45/45 [==============================] - 3s 60ms/step - loss: 0.2503 - accuracy: 0.8958\n",
            "Epoch 5/15\n",
            "45/45 [==============================] - 3s 61ms/step - loss: 0.2014 - accuracy: 0.9083\n",
            "Epoch 6/15\n",
            "45/45 [==============================] - 4s 73ms/step - loss: 0.2146 - accuracy: 0.9194\n",
            "Epoch 7/15\n",
            "45/45 [==============================] - 3s 60ms/step - loss: 0.1590 - accuracy: 0.9361\n",
            "Epoch 8/15\n",
            "45/45 [==============================] - 3s 61ms/step - loss: 0.2313 - accuracy: 0.9000\n",
            "Epoch 9/15\n",
            "45/45 [==============================] - 4s 60ms/step - loss: 0.1399 - accuracy: 0.9542\n",
            "Epoch 10/15\n",
            "45/45 [==============================] - 3s 60ms/step - loss: 0.1206 - accuracy: 0.9625\n",
            "Epoch 11/15\n",
            "45/45 [==============================] - 4s 76ms/step - loss: 0.1696 - accuracy: 0.9264\n",
            "Epoch 12/15\n",
            "45/45 [==============================] - 4s 70ms/step - loss: 0.2313 - accuracy: 0.9208\n",
            "Epoch 13/15\n",
            "45/45 [==============================] - 3s 60ms/step - loss: 0.0918 - accuracy: 0.9722\n",
            "Epoch 14/15\n",
            "45/45 [==============================] - 3s 60ms/step - loss: 0.1966 - accuracy: 0.9444\n",
            "Epoch 15/15\n",
            "45/45 [==============================] - 5s 101ms/step - loss: 0.2492 - accuracy: 0.9250\n",
            "\n",
            "\n",
            "Evaluating the model\n",
            "\n",
            "\n",
            "5/5 [==============================] - 1s 52ms/step - loss: 0.2858 - accuracy: 0.8125\n",
            "--------------------------------------------------------------------------------------------\n",
            "Fold 2\n",
            "--------------------------------------------------------------------------------------------\n",
            "Epoch 1/15\n",
            "45/45 [==============================] - 6s 81ms/step - loss: 0.7025 - accuracy: 0.7069\n",
            "Epoch 2/15\n",
            "45/45 [==============================] - 4s 79ms/step - loss: 0.3663 - accuracy: 0.8431\n",
            "Epoch 3/15\n",
            "45/45 [==============================] - 4s 78ms/step - loss: 0.3700 - accuracy: 0.8778\n",
            "Epoch 4/15\n",
            "45/45 [==============================] - 5s 115ms/step - loss: 0.3575 - accuracy: 0.8583\n",
            "Epoch 5/15\n",
            "45/45 [==============================] - 4s 79ms/step - loss: 0.2504 - accuracy: 0.9042\n",
            "Epoch 6/15\n",
            "45/45 [==============================] - 4s 81ms/step - loss: 0.3350 - accuracy: 0.8639\n",
            "Epoch 7/15\n",
            "45/45 [==============================] - 6s 123ms/step - loss: 0.2539 - accuracy: 0.8903\n",
            "Epoch 8/15\n",
            "45/45 [==============================] - 4s 78ms/step - loss: 0.3103 - accuracy: 0.8875\n",
            "Epoch 9/15\n",
            "45/45 [==============================] - 5s 92ms/step - loss: 0.2337 - accuracy: 0.9097\n",
            "Epoch 10/15\n",
            "45/45 [==============================] - 4s 79ms/step - loss: 0.2284 - accuracy: 0.9236\n",
            "Epoch 11/15\n",
            "45/45 [==============================] - 4s 86ms/step - loss: 0.1924 - accuracy: 0.9417\n",
            "Epoch 12/15\n",
            "45/45 [==============================] - 5s 91ms/step - loss: 0.2574 - accuracy: 0.9389\n",
            "Epoch 13/15\n",
            "45/45 [==============================] - 4s 79ms/step - loss: 0.2678 - accuracy: 0.8972\n",
            "Epoch 14/15\n",
            "45/45 [==============================] - 4s 85ms/step - loss: 0.1056 - accuracy: 0.9667\n",
            "Epoch 15/15\n",
            "45/45 [==============================] - 5s 86ms/step - loss: 0.0560 - accuracy: 0.9833\n",
            "\n",
            "\n",
            "Evaluating the model\n",
            "\n",
            "\n",
            "5/5 [==============================] - 1s 58ms/step - loss: 0.0467 - accuracy: 0.9875\n",
            "--------------------------------------------------------------------------------------------\n",
            "Fold 3\n",
            "--------------------------------------------------------------------------------------------\n",
            "Epoch 1/15\n",
            "45/45 [==============================] - 7s 112ms/step - loss: 0.7672 - accuracy: 0.6736\n",
            "Epoch 2/15\n",
            "45/45 [==============================] - 4s 84ms/step - loss: 0.2674 - accuracy: 0.8972\n",
            "Epoch 3/15\n",
            "45/45 [==============================] - 5s 99ms/step - loss: 0.3911 - accuracy: 0.8208\n",
            "Epoch 4/15\n",
            "45/45 [==============================] - 5s 92ms/step - loss: 0.2489 - accuracy: 0.8889\n",
            "Epoch 5/15\n",
            "45/45 [==============================] - 4s 85ms/step - loss: 0.1808 - accuracy: 0.9236\n",
            "Epoch 6/15\n",
            "45/45 [==============================] - 5s 107ms/step - loss: 0.1986 - accuracy: 0.9306\n",
            "Epoch 7/15\n",
            "45/45 [==============================] - 5s 91ms/step - loss: 0.1900 - accuracy: 0.9403\n",
            "Epoch 8/15\n",
            "45/45 [==============================] - 4s 86ms/step - loss: 0.2173 - accuracy: 0.9292\n",
            "Epoch 9/15\n",
            "45/45 [==============================] - 6s 119ms/step - loss: 0.1432 - accuracy: 0.9542\n",
            "Epoch 10/15\n",
            "45/45 [==============================] - 4s 85ms/step - loss: 0.1281 - accuracy: 0.9542\n",
            "Epoch 11/15\n",
            "45/45 [==============================] - 6s 119ms/step - loss: 0.2182 - accuracy: 0.9306\n",
            "Epoch 12/15\n",
            "45/45 [==============================] - 4s 85ms/step - loss: 0.1803 - accuracy: 0.9403\n",
            "Epoch 13/15\n",
            "45/45 [==============================] - 4s 85ms/step - loss: 0.1584 - accuracy: 0.9514\n",
            "Epoch 14/15\n",
            "45/45 [==============================] - 5s 96ms/step - loss: 0.1018 - accuracy: 0.9667\n",
            "Epoch 15/15\n",
            "45/45 [==============================] - 4s 84ms/step - loss: 0.0650 - accuracy: 0.9833\n",
            "\n",
            "\n",
            "Evaluating the model\n",
            "\n",
            "\n",
            "5/5 [==============================] - 1s 59ms/step - loss: 0.1963 - accuracy: 0.9000\n",
            "--------------------------------------------------------------------------------------------\n",
            "Fold 4\n",
            "--------------------------------------------------------------------------------------------\n",
            "Epoch 1/15\n",
            "45/45 [==============================] - 8s 94ms/step - loss: 0.9418 - accuracy: 0.6514\n",
            "Epoch 2/15\n",
            "45/45 [==============================] - 4s 89ms/step - loss: 0.3359 - accuracy: 0.8667\n",
            "Epoch 3/15\n",
            "45/45 [==============================] - 6s 128ms/step - loss: 0.2817 - accuracy: 0.8861\n",
            "Epoch 4/15\n",
            "45/45 [==============================] - 4s 90ms/step - loss: 0.5961 - accuracy: 0.7917\n",
            "Epoch 5/15\n",
            "45/45 [==============================] - 6s 124ms/step - loss: 0.3103 - accuracy: 0.8819\n",
            "Epoch 6/15\n",
            "45/45 [==============================] - 4s 91ms/step - loss: 0.1899 - accuracy: 0.9319\n",
            "Epoch 7/15\n",
            "45/45 [==============================] - 4s 91ms/step - loss: 0.4705 - accuracy: 0.8208\n",
            "Epoch 8/15\n",
            "45/45 [==============================] - 5s 104ms/step - loss: 0.3400 - accuracy: 0.8764\n",
            "Epoch 9/15\n",
            "45/45 [==============================] - 4s 89ms/step - loss: 0.1951 - accuracy: 0.9278\n",
            "Epoch 10/15\n",
            "45/45 [==============================] - 6s 119ms/step - loss: 0.1739 - accuracy: 0.9389\n",
            "Epoch 11/15\n",
            "45/45 [==============================] - 4s 90ms/step - loss: 0.1859 - accuracy: 0.9278\n",
            "Epoch 12/15\n",
            "45/45 [==============================] - 6s 125ms/step - loss: 0.1717 - accuracy: 0.9347\n",
            "Epoch 13/15\n",
            "45/45 [==============================] - 4s 91ms/step - loss: 0.1504 - accuracy: 0.9431\n",
            "Epoch 14/15\n",
            "45/45 [==============================] - 6s 115ms/step - loss: 0.1459 - accuracy: 0.9431\n",
            "Epoch 15/15\n",
            "45/45 [==============================] - 5s 102ms/step - loss: 0.1183 - accuracy: 0.9681\n",
            "\n",
            "\n",
            "Evaluating the model\n",
            "\n",
            "\n",
            "5/5 [==============================] - 2s 80ms/step - loss: 0.1595 - accuracy: 0.9250\n",
            "--------------------------------------------------------------------------------------------\n",
            "Fold 5\n",
            "--------------------------------------------------------------------------------------------\n",
            "Epoch 1/15\n",
            "45/45 [==============================] - 7s 94ms/step - loss: 0.6578 - accuracy: 0.7528\n",
            "Epoch 2/15\n",
            "45/45 [==============================] - 5s 96ms/step - loss: 0.4488 - accuracy: 0.8264\n",
            "Epoch 3/15\n",
            "45/45 [==============================] - 5s 94ms/step - loss: 0.4416 - accuracy: 0.8458\n",
            "Epoch 4/15\n",
            "45/45 [==============================] - 6s 126ms/step - loss: 0.1856 - accuracy: 0.9208\n",
            "Epoch 5/15\n",
            "45/45 [==============================] - 5s 106ms/step - loss: 0.2398 - accuracy: 0.8917\n",
            "Epoch 6/15\n",
            "45/45 [==============================] - 6s 114ms/step - loss: 0.2364 - accuracy: 0.9069\n",
            "Epoch 7/15\n",
            "45/45 [==============================] - 5s 93ms/step - loss: 0.2938 - accuracy: 0.8917\n",
            "Epoch 8/15\n",
            "45/45 [==============================] - 6s 120ms/step - loss: 0.1946 - accuracy: 0.9319\n",
            "Epoch 9/15\n",
            "45/45 [==============================] - 5s 97ms/step - loss: 0.1544 - accuracy: 0.9528\n",
            "Epoch 10/15\n",
            "45/45 [==============================] - 5s 95ms/step - loss: 0.2310 - accuracy: 0.9167\n",
            "Epoch 11/15\n",
            "45/45 [==============================] - 6s 129ms/step - loss: 0.1855 - accuracy: 0.9458\n",
            "Epoch 12/15\n",
            "45/45 [==============================] - 5s 96ms/step - loss: 0.1571 - accuracy: 0.9500\n",
            "Epoch 13/15\n",
            "45/45 [==============================] - 6s 120ms/step - loss: 0.1525 - accuracy: 0.9444\n",
            "Epoch 14/15\n",
            "45/45 [==============================] - 5s 95ms/step - loss: 0.0879 - accuracy: 0.9694\n",
            "Epoch 15/15\n",
            "45/45 [==============================] - 6s 119ms/step - loss: 0.0899 - accuracy: 0.9792\n",
            "\n",
            "\n",
            "Evaluating the model\n",
            "\n",
            "\n",
            "5/5 [==============================] - 2s 54ms/step - loss: 0.0902 - accuracy: 0.9750\n",
            "--------------------------------------------------------------------------------------------\n",
            "Fold 6\n",
            "--------------------------------------------------------------------------------------------\n",
            "Epoch 1/15\n",
            "45/45 [==============================] - 9s 139ms/step - loss: 0.7946 - accuracy: 0.6583\n",
            "Epoch 2/15\n",
            "45/45 [==============================] - 5s 101ms/step - loss: 0.2897 - accuracy: 0.8750\n",
            "Epoch 3/15\n",
            "45/45 [==============================] - 6s 135ms/step - loss: 0.3340 - accuracy: 0.8500\n",
            "Epoch 4/15\n",
            "45/45 [==============================] - 5s 102ms/step - loss: 0.2173 - accuracy: 0.9222\n",
            "Epoch 5/15\n",
            "45/45 [==============================] - 5s 106ms/step - loss: 0.3643 - accuracy: 0.8917\n",
            "Epoch 6/15\n",
            "45/45 [==============================] - 6s 125ms/step - loss: 0.2138 - accuracy: 0.9264\n",
            "Epoch 7/15\n",
            "45/45 [==============================] - 5s 100ms/step - loss: 0.2257 - accuracy: 0.9181\n",
            "Epoch 8/15\n",
            "45/45 [==============================] - 6s 136ms/step - loss: 0.1878 - accuracy: 0.9208\n",
            "Epoch 9/15\n",
            "45/45 [==============================] - 5s 101ms/step - loss: 0.1469 - accuracy: 0.9528\n",
            "Epoch 10/15\n",
            "45/45 [==============================] - 6s 136ms/step - loss: 0.1466 - accuracy: 0.9431\n",
            "Epoch 11/15\n",
            "45/45 [==============================] - 5s 101ms/step - loss: 0.3167 - accuracy: 0.8889\n",
            "Epoch 12/15\n",
            "45/45 [==============================] - 6s 120ms/step - loss: 0.2025 - accuracy: 0.9208\n",
            "Epoch 13/15\n",
            "45/45 [==============================] - 5s 108ms/step - loss: 0.1666 - accuracy: 0.9486\n",
            "Epoch 14/15\n",
            "45/45 [==============================] - 5s 101ms/step - loss: 0.0805 - accuracy: 0.9778\n",
            "Epoch 15/15\n",
            "45/45 [==============================] - 6s 136ms/step - loss: 0.0573 - accuracy: 0.9819\n",
            "\n",
            "\n",
            "Evaluating the model\n",
            "\n",
            "\n",
            "5/5 [==============================] - 2s 51ms/step - loss: 0.0778 - accuracy: 0.9750\n",
            "--------------------------------------------------------------------------------------------\n",
            "Fold 7\n",
            "--------------------------------------------------------------------------------------------\n",
            "Epoch 1/15\n",
            "45/45 [==============================] - 8s 121ms/step - loss: 0.6669 - accuracy: 0.7000\n",
            "Epoch 2/15\n",
            "45/45 [==============================] - 6s 120ms/step - loss: 0.2825 - accuracy: 0.8861\n",
            "Epoch 3/15\n",
            "45/45 [==============================] - 5s 107ms/step - loss: 0.2813 - accuracy: 0.8819\n",
            "Epoch 4/15\n",
            "45/45 [==============================] - 7s 142ms/step - loss: 0.2740 - accuracy: 0.8847\n",
            "Epoch 5/15\n",
            "45/45 [==============================] - 5s 110ms/step - loss: 0.2036 - accuracy: 0.9264\n",
            "Epoch 6/15\n",
            "45/45 [==============================] - 5s 105ms/step - loss: 0.2232 - accuracy: 0.9167\n",
            "Epoch 7/15\n",
            "45/45 [==============================] - 7s 142ms/step - loss: 0.2338 - accuracy: 0.9097\n",
            "Epoch 8/15\n",
            "45/45 [==============================] - 5s 106ms/step - loss: 0.1787 - accuracy: 0.9306\n",
            "Epoch 9/15\n",
            "45/45 [==============================] - 7s 139ms/step - loss: 0.1630 - accuracy: 0.9444\n",
            "Epoch 10/15\n",
            "45/45 [==============================] - 6s 116ms/step - loss: 0.1189 - accuracy: 0.9583\n",
            "Epoch 11/15\n",
            "45/45 [==============================] - 6s 125ms/step - loss: 0.2702 - accuracy: 0.9083\n",
            "Epoch 12/15\n",
            "45/45 [==============================] - 7s 142ms/step - loss: 0.1275 - accuracy: 0.9611\n",
            "Epoch 13/15\n",
            "45/45 [==============================] - 5s 106ms/step - loss: 0.2330 - accuracy: 0.9181\n",
            "Epoch 14/15\n",
            "45/45 [==============================] - 6s 129ms/step - loss: 0.6224 - accuracy: 0.7972\n",
            "Epoch 15/15\n",
            "45/45 [==============================] - 5s 107ms/step - loss: 0.3199 - accuracy: 0.8750\n",
            "\n",
            "\n",
            "Evaluating the model\n",
            "\n",
            "\n",
            "5/5 [==============================] - 2s 86ms/step - loss: 0.1542 - accuracy: 0.9625\n",
            "--------------------------------------------------------------------------------------------\n",
            "Fold 8\n",
            "--------------------------------------------------------------------------------------------\n",
            "Epoch 1/15\n",
            "45/45 [==============================] - 9s 116ms/step - loss: 0.7025 - accuracy: 0.7097\n",
            "Epoch 2/15\n",
            "45/45 [==============================] - 6s 133ms/step - loss: 0.3529 - accuracy: 0.8375\n",
            "Epoch 3/15\n",
            "45/45 [==============================] - 5s 112ms/step - loss: 0.2699 - accuracy: 0.8875\n",
            "Epoch 4/15\n",
            "45/45 [==============================] - 7s 148ms/step - loss: 0.2071 - accuracy: 0.9208\n",
            "Epoch 5/15\n",
            "45/45 [==============================] - 5s 109ms/step - loss: 0.2237 - accuracy: 0.9097\n",
            "Epoch 6/15\n",
            "45/45 [==============================] - 5s 112ms/step - loss: 0.3167 - accuracy: 0.8875\n",
            "Epoch 7/15\n",
            "45/45 [==============================] - 5s 112ms/step - loss: 0.2017 - accuracy: 0.9264\n",
            "Epoch 8/15\n",
            "45/45 [==============================] - 6s 127ms/step - loss: 0.1598 - accuracy: 0.9431\n",
            "Epoch 9/15\n",
            "45/45 [==============================] - 5s 114ms/step - loss: 0.1607 - accuracy: 0.9306\n",
            "Epoch 10/15\n",
            "45/45 [==============================] - 5s 112ms/step - loss: 0.1615 - accuracy: 0.9389\n",
            "Epoch 11/15\n",
            "45/45 [==============================] - 6s 136ms/step - loss: 0.0645 - accuracy: 0.9847\n",
            "Epoch 12/15\n",
            "45/45 [==============================] - 6s 117ms/step - loss: 0.2293 - accuracy: 0.9097\n",
            "Epoch 13/15\n",
            "45/45 [==============================] - 5s 112ms/step - loss: 0.2235 - accuracy: 0.9097\n",
            "Epoch 14/15\n",
            "45/45 [==============================] - 7s 137ms/step - loss: 0.2202 - accuracy: 0.9333\n",
            "Epoch 15/15\n",
            "45/45 [==============================] - 6s 138ms/step - loss: 0.2180 - accuracy: 0.9486\n",
            "\n",
            "\n",
            "Evaluating the model\n",
            "\n",
            "\n",
            "5/5 [==============================] - 3s 51ms/step - loss: 0.0629 - accuracy: 0.9875\n",
            "--------------------------------------------------------------------------------------------\n",
            "Fold 9\n",
            "--------------------------------------------------------------------------------------------\n",
            "Epoch 1/15\n",
            "45/45 [==============================] - 8s 119ms/step - loss: 0.6100 - accuracy: 0.7306\n",
            "Epoch 2/15\n",
            "45/45 [==============================] - 7s 146ms/step - loss: 0.3811 - accuracy: 0.8556\n",
            "Epoch 3/15\n",
            "45/45 [==============================] - 7s 142ms/step - loss: 0.2655 - accuracy: 0.9000\n",
            "Epoch 4/15\n",
            "45/45 [==============================] - 6s 121ms/step - loss: 0.1741 - accuracy: 0.9375\n",
            "Epoch 5/15\n",
            "45/45 [==============================] - 6s 124ms/step - loss: 0.2100 - accuracy: 0.9208\n",
            "Epoch 6/15\n",
            "45/45 [==============================] - 7s 135ms/step - loss: 0.2213 - accuracy: 0.9069\n",
            "Epoch 7/15\n",
            "45/45 [==============================] - 6s 117ms/step - loss: 0.3309 - accuracy: 0.8819\n",
            "Epoch 8/15\n",
            "45/45 [==============================] - 7s 152ms/step - loss: 0.2027 - accuracy: 0.9264\n",
            "Epoch 9/15\n",
            "45/45 [==============================] - 6s 118ms/step - loss: 0.2118 - accuracy: 0.9236\n",
            "Epoch 10/15\n",
            "45/45 [==============================] - 6s 117ms/step - loss: 0.1562 - accuracy: 0.9528\n",
            "Epoch 11/15\n",
            "45/45 [==============================] - 6s 132ms/step - loss: 0.1506 - accuracy: 0.9389\n",
            "Epoch 12/15\n",
            "45/45 [==============================] - 6s 130ms/step - loss: 0.0917 - accuracy: 0.9722\n",
            "Epoch 13/15\n",
            "45/45 [==============================] - 7s 152ms/step - loss: 0.0892 - accuracy: 0.9764\n",
            "Epoch 14/15\n",
            "45/45 [==============================] - 6s 117ms/step - loss: 0.1559 - accuracy: 0.9514\n",
            "Epoch 15/15\n",
            "45/45 [==============================] - 5s 116ms/step - loss: 0.1315 - accuracy: 0.9583\n",
            "\n",
            "\n",
            "Evaluating the model\n",
            "\n",
            "\n",
            "5/5 [==============================] - 3s 55ms/step - loss: 0.1212 - accuracy: 0.9750\n",
            "--------------------------------------------------------------------------------------------\n",
            "Fold 10\n",
            "--------------------------------------------------------------------------------------------\n",
            "Epoch 1/15\n",
            "45/45 [==============================] - 5s 61ms/step - loss: 0.6036 - accuracy: 0.7528\n",
            "Epoch 2/15\n",
            "45/45 [==============================] - 5s 97ms/step - loss: 0.4131 - accuracy: 0.8375\n",
            "Epoch 3/15\n",
            "45/45 [==============================] - 3s 63ms/step - loss: 0.1975 - accuracy: 0.9125\n",
            "Epoch 4/15\n",
            "45/45 [==============================] - 3s 62ms/step - loss: 0.2454 - accuracy: 0.8875\n",
            "Epoch 5/15\n",
            "45/45 [==============================] - 5s 93ms/step - loss: 0.1748 - accuracy: 0.9250\n",
            "Epoch 6/15\n",
            "45/45 [==============================] - 3s 63ms/step - loss: 0.1944 - accuracy: 0.9153\n",
            "Epoch 7/15\n",
            "45/45 [==============================] - 3s 61ms/step - loss: 0.2765 - accuracy: 0.8806\n",
            "Epoch 8/15\n",
            "45/45 [==============================] - 5s 93ms/step - loss: 0.2704 - accuracy: 0.8986\n",
            "Epoch 9/15\n",
            "45/45 [==============================] - 3s 62ms/step - loss: 0.1721 - accuracy: 0.9306\n",
            "Epoch 10/15\n",
            "45/45 [==============================] - 3s 62ms/step - loss: 0.1762 - accuracy: 0.9417\n",
            "Epoch 11/15\n",
            "45/45 [==============================] - 3s 63ms/step - loss: 0.1795 - accuracy: 0.9361\n",
            "Epoch 12/15\n",
            "45/45 [==============================] - 4s 65ms/step - loss: 0.1262 - accuracy: 0.9625\n",
            "Epoch 13/15\n",
            "45/45 [==============================] - 3s 63ms/step - loss: 0.1405 - accuracy: 0.9528\n",
            "Epoch 14/15\n",
            "45/45 [==============================] - 5s 98ms/step - loss: 0.1868 - accuracy: 0.9389\n",
            "Epoch 15/15\n",
            "45/45 [==============================] - 3s 64ms/step - loss: 0.2752 - accuracy: 0.9139\n",
            "\n",
            "\n",
            "Evaluating the model\n",
            "\n",
            "\n",
            "5/5 [==============================] - 3s 61ms/step - loss: 0.1319 - accuracy: 0.9625\n",
            "--------------------------------------------------------------------------------------------\n"
          ]
        }
      ],
      "source": [
        "i=0\n",
        "j=5\n",
        "k=45\n",
        "\n",
        "for fold_var in range(0,FOLDS,1):\n",
        "  print(f'Fold {fold_var+1}')\n",
        "  print('--------------------------------------------------------------------------------------------')\n",
        "  training_set1=normalized_train_val_set.take(i)\n",
        "  training_set2=normalized_train_val_set.skip(i+j).take(k)\n",
        "  training_set=training_set1.concatenate(training_set2)\n",
        "  validation_set=normalized_train_val_set.skip(i).take(j)\n",
        "  i=i+5\n",
        "  j=5\n",
        "  k=k-5\n",
        "  \n",
        "  model=Build_Model()\n",
        "  Model_Run = model.fit(\n",
        "    training_set,\n",
        "    epochs=15,\n",
        "    steps_per_epoch=len(training_set),\n",
        "    callbacks=[tensorboard_callback]\n",
        "  )\n",
        "  print('\\n')\n",
        "  print(f'Evaluating the model')\n",
        "  print('\\n')\n",
        "  cur_scores=model.evaluate(validation_set)\n",
        "  cur_scores[0]*=100\n",
        "  cur_scores[1]*=100\n",
        "  cur_scores=[fold_var+1,cur_scores[0],cur_scores[1]]\n",
        "  SCORES_PER_FOLD.append(cur_scores)\n",
        "\n",
        "  model.save(model_dir+'model_'+str(fold_var+1)+'.h5')\n",
        "  print('--------------------------------------------------------------------------------------------')\n",
        "  tf.keras.backend.clear_session()\n"
      ]
    },
    {
      "cell_type": "code",
      "execution_count": 15,
      "metadata": {
        "id": "IxXiy2USK3hC",
        "colab": {
          "base_uri": "https://localhost:8080/"
        },
        "outputId": "f7bb3647-0f1e-4555-af0d-bddf709b836f"
      },
      "outputs": [
        {
          "output_type": "stream",
          "name": "stdout",
          "text": [
            "+---------------+----------------------+--------------------------+\n",
            "|   Fold Number |   Validation Loss(%) |   Validation Accuracy(%) |\n",
            "+===============+======================+==========================+\n",
            "|             1 |             28.583   |                    81.25 |\n",
            "+---------------+----------------------+--------------------------+\n",
            "|             2 |              4.66875 |                    98.75 |\n",
            "+---------------+----------------------+--------------------------+\n",
            "|             3 |             19.6324  |                    90    |\n",
            "+---------------+----------------------+--------------------------+\n",
            "|             4 |             15.954   |                    92.5  |\n",
            "+---------------+----------------------+--------------------------+\n",
            "|             5 |              9.02213 |                    97.5  |\n",
            "+---------------+----------------------+--------------------------+\n",
            "|             6 |              7.7773  |                    97.5  |\n",
            "+---------------+----------------------+--------------------------+\n",
            "|             7 |             15.419   |                    96.25 |\n",
            "+---------------+----------------------+--------------------------+\n",
            "|             8 |              6.28755 |                    98.75 |\n",
            "+---------------+----------------------+--------------------------+\n",
            "|             9 |             12.1244  |                    97.5  |\n",
            "+---------------+----------------------+--------------------------+\n",
            "|            10 |             13.1884  |                    96.25 |\n",
            "+---------------+----------------------+--------------------------+\n"
          ]
        }
      ],
      "source": [
        "column_headers=['Fold Number','Validation Loss(%)','Validation Accuracy(%)']\n",
        "print(tabulate(SCORES_PER_FOLD, headers=column_headers, tablefmt=\"grid\"))"
      ]
    },
    {
      "cell_type": "markdown",
      "metadata": {
        "id": "Ou_MBkGIG1sd"
      },
      "source": [
        "### Selecting the model with highest accuracy for training"
      ]
    },
    {
      "cell_type": "code",
      "execution_count": 16,
      "metadata": {
        "id": "iIj4X_luG1Ce",
        "colab": {
          "base_uri": "https://localhost:8080/"
        },
        "outputId": "42739aa7-592c-414f-f0bf-5b317af5e930"
      },
      "outputs": [
        {
          "output_type": "stream",
          "name": "stdout",
          "text": [
            "The maximum validation accuracy is: 98.7500011920929\n",
            "The folds having 98.7500011920929 validation accuracy are:\n",
            "2\n",
            "8\n",
            "Selecting the model of fold no 2 for fine parameter tuning\n"
          ]
        }
      ],
      "source": [
        "max_acc=SCORES_PER_FOLD[0][2]\n",
        "max_acc_index=[]\n",
        "for i in range(len(SCORES_PER_FOLD)):\n",
        "  if(SCORES_PER_FOLD[i][2]>max_acc):\n",
        "    max_acc=SCORES_PER_FOLD[i][2]\n",
        "print(f'The maximum validation accuracy is: {max_acc}')\n",
        "for i in range(len(SCORES_PER_FOLD)):\n",
        "  if(SCORES_PER_FOLD[i][2]==max_acc):\n",
        "    max_acc_index.append(i)\n",
        "print(f'The folds having {max_acc} validation accuracy are:')\n",
        "for i in range(len(max_acc_index)):\n",
        "  print(max_acc_index[i]+1)\n",
        "\n",
        "result=-1\n",
        "if(len(max_acc_index)>1):\n",
        "    min_loss=SCORES_PER_FOLD[max_acc_index[0]][1]\n",
        "    j=0\n",
        "    result=max_acc_index[0]\n",
        "    while(j<len(max_acc_index)):\n",
        "      index=max_acc_index[j]\n",
        "      if(SCORES_PER_FOLD[index][1]<min_loss):\n",
        "        min_loss=SCORES_PER_FOLD[index][1]\n",
        "        result=index\n",
        "      j+=1\n",
        "else:\n",
        "  result=max_acc_index[0]\n",
        "print(f'Selecting the model of fold no {result+1} for fine parameter tuning')\n",
        "model=load_model(model_dir+'model_'+str(result+1)+'.h5')"
      ]
    },
    {
      "cell_type": "markdown",
      "metadata": {
        "id": "5WyyGpDKsyuK"
      },
      "source": [
        "### Training the model for fine parameter tuning"
      ]
    },
    {
      "cell_type": "code",
      "execution_count": 17,
      "metadata": {
        "id": "QXQHGC5ys6Up",
        "colab": {
          "base_uri": "https://localhost:8080/"
        },
        "outputId": "ef242ef7-7d78-4aef-bd44-7819153cb8d4"
      },
      "outputs": [
        {
          "output_type": "stream",
          "name": "stdout",
          "text": [
            "Epoch 1/30\n",
            "40/40 [==============================] - 9s 135ms/step - loss: 0.1854 - accuracy: 0.9297 - val_loss: 0.2632 - val_accuracy: 0.8750\n",
            "Epoch 2/30\n",
            "40/40 [==============================] - 6s 150ms/step - loss: 0.3029 - accuracy: 0.8875 - val_loss: 0.3193 - val_accuracy: 0.7937\n",
            "Epoch 3/30\n",
            "40/40 [==============================] - 6s 146ms/step - loss: 0.2563 - accuracy: 0.8953 - val_loss: 0.1836 - val_accuracy: 0.9563\n",
            "Epoch 4/30\n",
            "40/40 [==============================] - 6s 130ms/step - loss: 0.1425 - accuracy: 0.9469 - val_loss: 0.3420 - val_accuracy: 0.9125\n",
            "Epoch 5/30\n",
            "40/40 [==============================] - 5s 129ms/step - loss: 0.4503 - accuracy: 0.8313 - val_loss: 0.2465 - val_accuracy: 0.9000\n",
            "Epoch 6/30\n",
            "40/40 [==============================] - 6s 129ms/step - loss: 0.1739 - accuracy: 0.9234 - val_loss: 0.3273 - val_accuracy: 0.8562\n",
            "Epoch 7/30\n",
            "40/40 [==============================] - 8s 192ms/step - loss: 0.1388 - accuracy: 0.9594 - val_loss: 0.1489 - val_accuracy: 0.9250\n",
            "Epoch 8/30\n",
            "40/40 [==============================] - 6s 132ms/step - loss: 0.0793 - accuracy: 0.9734 - val_loss: 0.0793 - val_accuracy: 0.9625\n",
            "Epoch 9/30\n",
            "40/40 [==============================] - 6s 131ms/step - loss: 0.0640 - accuracy: 0.9828 - val_loss: 0.0777 - val_accuracy: 0.9688\n",
            "Epoch 10/30\n",
            "40/40 [==============================] - 6s 145ms/step - loss: 0.3523 - accuracy: 0.9469 - val_loss: 0.1748 - val_accuracy: 0.9438\n",
            "Epoch 11/30\n",
            "40/40 [==============================] - 7s 168ms/step - loss: 0.3176 - accuracy: 0.9453 - val_loss: 0.3427 - val_accuracy: 0.8250\n",
            "Epoch 12/30\n",
            "40/40 [==============================] - 5s 130ms/step - loss: 0.2390 - accuracy: 0.9172 - val_loss: 0.1197 - val_accuracy: 0.9438\n",
            "Epoch 13/30\n",
            "40/40 [==============================] - 7s 167ms/step - loss: 0.0841 - accuracy: 0.9750 - val_loss: 0.0767 - val_accuracy: 0.9750\n",
            "Epoch 14/30\n",
            "40/40 [==============================] - 5s 129ms/step - loss: 0.0816 - accuracy: 0.9750 - val_loss: 0.1727 - val_accuracy: 0.9500\n",
            "Epoch 15/30\n",
            "40/40 [==============================] - 5s 129ms/step - loss: 0.1180 - accuracy: 0.9672 - val_loss: 0.0374 - val_accuracy: 0.9875\n",
            "Epoch 16/30\n",
            "40/40 [==============================] - 7s 154ms/step - loss: 0.0468 - accuracy: 0.9859 - val_loss: 0.0211 - val_accuracy: 0.9937\n",
            "Epoch 17/30\n",
            "40/40 [==============================] - 5s 130ms/step - loss: 0.0376 - accuracy: 0.9891 - val_loss: 0.0443 - val_accuracy: 0.9812\n",
            "Epoch 18/30\n",
            "40/40 [==============================] - 6s 132ms/step - loss: 0.0302 - accuracy: 0.9906 - val_loss: 0.0454 - val_accuracy: 0.9875\n",
            "Epoch 19/30\n",
            "40/40 [==============================] - 6s 138ms/step - loss: 0.0254 - accuracy: 0.9891 - val_loss: 0.0383 - val_accuracy: 0.9875\n",
            "Epoch 20/30\n",
            "40/40 [==============================] - 7s 170ms/step - loss: 0.0401 - accuracy: 0.9875 - val_loss: 0.0845 - val_accuracy: 0.9625\n",
            "Epoch 21/30\n",
            "40/40 [==============================] - 6s 137ms/step - loss: 0.0397 - accuracy: 0.9844 - val_loss: 0.0115 - val_accuracy: 1.0000\n",
            "Epoch 22/30\n",
            "40/40 [==============================] - 7s 156ms/step - loss: 0.0286 - accuracy: 0.9937 - val_loss: 0.0730 - val_accuracy: 0.9563\n",
            "Epoch 23/30\n",
            "40/40 [==============================] - 6s 130ms/step - loss: 0.0354 - accuracy: 0.9937 - val_loss: 0.0304 - val_accuracy: 0.9937\n",
            "Epoch 24/30\n",
            "40/40 [==============================] - 5s 129ms/step - loss: 0.0461 - accuracy: 0.9906 - val_loss: 0.0691 - val_accuracy: 0.9812\n",
            "Epoch 25/30\n",
            "40/40 [==============================] - 6s 130ms/step - loss: 0.0335 - accuracy: 0.9937 - val_loss: 0.0383 - val_accuracy: 0.9875\n",
            "Epoch 26/30\n",
            "40/40 [==============================] - 7s 167ms/step - loss: 0.0159 - accuracy: 0.9969 - val_loss: 0.0152 - val_accuracy: 0.9937\n",
            "Epoch 27/30\n",
            "40/40 [==============================] - 8s 193ms/step - loss: 0.0237 - accuracy: 0.9937 - val_loss: 0.0299 - val_accuracy: 0.9937\n",
            "Epoch 28/30\n",
            "40/40 [==============================] - 5s 129ms/step - loss: 0.0232 - accuracy: 0.9937 - val_loss: 0.0040 - val_accuracy: 1.0000\n",
            "Epoch 29/30\n",
            "40/40 [==============================] - 8s 194ms/step - loss: 0.0143 - accuracy: 0.9953 - val_loss: 0.0367 - val_accuracy: 0.9812\n",
            "Epoch 30/30\n",
            "40/40 [==============================] - 5s 128ms/step - loss: 0.0161 - accuracy: 0.9922 - val_loss: 0.0721 - val_accuracy: 0.9750\n"
          ]
        }
      ],
      "source": [
        "training_set=normalized_train_val_set.take(40)\n",
        "validation_set=normalized_train_val_set.skip(40).take(10)\n",
        "\n",
        "Cur_Model_Run = model.fit(\n",
        "    training_set,\n",
        "    validation_data=validation_set,\n",
        "    epochs=30,\n",
        "    steps_per_epoch=len(training_set),\n",
        "    validation_steps=len(validation_set),\n",
        "    callbacks=[tensorboard_callback]\n",
        "  )"
      ]
    },
    {
      "cell_type": "markdown",
      "metadata": {
        "id": "dAfpCTCWExrN"
      },
      "source": [
        "### Plotting the performance of the model after fine parameter tuning"
      ]
    },
    {
      "cell_type": "code",
      "execution_count": 18,
      "metadata": {
        "id": "Ip0NtKLos4sU",
        "colab": {
          "base_uri": "https://localhost:8080/",
          "height": 619
        },
        "outputId": "c8209d5d-8286-4ca1-b9c4-3cd3ec85feaf"
      },
      "outputs": [
        {
          "output_type": "display_data",
          "data": {
            "text/plain": [
              "<Figure size 1000x600 with 1 Axes>"
            ],
            "image/png": "[encoded data removed]"
          },
          "metadata": {}
        },
        {
          "output_type": "stream",
          "name": "stderr",
          "text": [
            "WARNING:matplotlib.backends.backend_ps:The PostScript backend does not support transparency; partially transparent artists will be rendered opaque.\n"
          ]
        }
      ],
      "source": [
        "# Plotting the loss\n",
        "\n",
        "\n",
        "fig=plt.figure(figsize=(10,6));\n",
        "plt.plot(Cur_Model_Run.history['loss'], color='blue', label='Training Loss')\n",
        "plt.plot(Cur_Model_Run.history['val_loss'], color='red', label='Validation Loss')\n",
        "plt.xlabel(\"Epochs\")\n",
        "plt.ylabel(\"Loss\")\n",
        "fig.suptitle('Loss',fontsize=15)\n",
        "plt.legend()\n",
        "plt.show()\n",
        "fig.savefig('/content/drive/MyDrive/Project_2/CNN_Model_Related/CNN_Model_Related_White/Loss.eps', format='eps', dpi=600)"
      ]
    },
    {
      "cell_type": "code",
      "execution_count": 19,
      "metadata": {
        "id": "Qif0CC2Wx-zq",
        "colab": {
          "base_uri": "https://localhost:8080/",
          "height": 619
        },
        "outputId": "a8395d0b-9881-4010-935e-eac90154df02"
      },
      "outputs": [
        {
          "output_type": "display_data",
          "data": {
            "text/plain": [
              "<Figure size 1000x600 with 1 Axes>"
            ],
            "image/png": "[encoded data removed]"
          },
          "metadata": {}
        },
        {
          "output_type": "stream",
          "name": "stderr",
          "text": [
            "WARNING:matplotlib.backends.backend_ps:The PostScript backend does not support transparency; partially transparent artists will be rendered opaque.\n"
          ]
        }
      ],
      "source": [
        "# Plotting the accuracy\n",
        "\n",
        "\n",
        "fig=plt.figure(figsize=(10,6));\n",
        "plt.plot(Cur_Model_Run.history['accuracy'], color='blue', label='Training Accuracy')\n",
        "plt.plot(Cur_Model_Run.history['val_accuracy'], color='red', label='Validation Accuracy')\n",
        "plt.xlabel(\"Epochs\")\n",
        "plt.ylabel(\"Accuracy\")\n",
        "fig.suptitle('Accuracy',fontsize=15)\n",
        "plt.legend()\n",
        "plt.show()\n",
        "fig.savefig('/content/drive/MyDrive/Project_2/CNN_Model_Related/CNN_Model_Related_White/Accuracy.eps', format='eps', dpi=600)"
      ]
    },
    {
      "cell_type": "markdown",
      "metadata": {
        "id": "ry0YiEGL4H7v"
      },
      "source": [
        "###Calcualting Precision, Recall, Accuracy and F Score of the Model"
      ]
    },
    {
      "cell_type": "code",
      "execution_count": 20,
      "metadata": {
        "id": "7A8M6AA-1KH0"
      },
      "outputs": [],
      "source": [
        "pre = Precision()\n",
        "re = Recall()\n",
        "acc = Accuracy()"
      ]
    },
    {
      "cell_type": "code",
      "execution_count": 21,
      "metadata": {
        "id": "JOFrZ_XmgIx0",
        "colab": {
          "base_uri": "https://localhost:8080/"
        },
        "outputId": "59be8759-8106-4551-c69f-caa9e04af370"
      },
      "outputs": [
        {
          "output_type": "stream",
          "name": "stdout",
          "text": [
            "1/1 [==============================] - 0s 58ms/step - loss: 0.0015 - accuracy: 1.0000\n",
            "1/1 [==============================] - 0s 153ms/step\n",
            "1/1 [==============================] - 0s 43ms/step - loss: 0.0051 - accuracy: 1.0000\n",
            "1/1 [==============================] - 0s 27ms/step\n",
            "1/1 [==============================] - 0s 46ms/step - loss: 0.0011 - accuracy: 1.0000\n",
            "1/1 [==============================] - 0s 26ms/step\n",
            "1/1 [==============================] - 0s 50ms/step - loss: 0.0096 - accuracy: 1.0000\n",
            "1/1 [==============================] - 0s 44ms/step\n",
            "1/1 [==============================] - 0s 54ms/step - loss: 9.6783e-04 - accuracy: 1.0000\n",
            "1/1 [==============================] - 0s 42ms/step\n",
            "1/1 [==============================] - 0s 44ms/step - loss: 9.6683e-04 - accuracy: 1.0000\n",
            "1/1 [==============================] - 0s 32ms/step\n",
            "1/1 [==============================] - 0s 47ms/step - loss: 1.6717e-04 - accuracy: 1.0000\n",
            "1/1 [==============================] - 0s 29ms/step\n",
            "1/1 [==============================] - 0s 45ms/step - loss: 0.0229 - accuracy: 1.0000\n",
            "1/1 [==============================] - 0s 30ms/step\n",
            "1/1 [==============================] - 0s 43ms/step - loss: 0.0036 - accuracy: 1.0000\n",
            "1/1 [==============================] - 0s 26ms/step\n",
            "1/1 [==============================] - 0s 48ms/step - loss: 0.0173 - accuracy: 1.0000\n",
            "1/1 [==============================] - 0s 28ms/step\n",
            "1/1 [==============================] - 0s 42ms/step - loss: 0.0049 - accuracy: 1.0000\n",
            "1/1 [==============================] - 0s 35ms/step\n",
            "1/1 [==============================] - 0s 55ms/step - loss: 0.0518 - accuracy: 0.9375\n",
            "1/1 [==============================] - 0s 38ms/step\n",
            "1/1 [==============================] - 0s 51ms/step - loss: 0.0065 - accuracy: 1.0000\n",
            "1/1 [==============================] - 0s 48ms/step\n",
            "1/1 [==============================] - 0s 56ms/step - loss: 0.0210 - accuracy: 1.0000\n",
            "1/1 [==============================] - 0s 38ms/step\n",
            "1/1 [==============================] - 0s 53ms/step - loss: 0.0384 - accuracy: 1.0000\n",
            "1/1 [==============================] - 0s 37ms/step\n",
            "1/1 [==============================] - 0s 55ms/step - loss: 8.1160e-04 - accuracy: 1.0000\n",
            "1/1 [==============================] - 0s 44ms/step\n",
            "1/1 [==============================] - 0s 52ms/step - loss: 9.4600e-04 - accuracy: 1.0000\n",
            "1/1 [==============================] - 0s 43ms/step\n",
            "1/1 [==============================] - 0s 63ms/step - loss: 0.0181 - accuracy: 1.0000\n",
            "1/1 [==============================] - 0s 43ms/step\n",
            "1/1 [==============================] - 0s 57ms/step - loss: 4.8018e-04 - accuracy: 1.0000\n",
            "1/1 [==============================] - 0s 34ms/step\n",
            "1/1 [==============================] - 0s 53ms/step - loss: 3.9707e-04 - accuracy: 1.0000\n",
            "1/1 [==============================] - 0s 40ms/step\n"
          ]
        }
      ],
      "source": [
        "True_label=[]\n",
        "Predicted_label=[]\n",
        "score=[]\n",
        "for images,labels in (normalized_testing_set):              \n",
        "  score.append(model.evaluate(images,labels))\n",
        "  for it in range(len(labels)):\n",
        "    True_label.append(labels[it])\n",
        "  pred=model.predict(images)\n",
        "  y_max=[]\n",
        "  for it in range(len(pred)):\n",
        "      y_max.append(np.argmax(pred[it]))\n",
        "      Predicted_label.append(np.argmax(pred[it]))\n",
        "  pre.update_state(labels,y_max)\n",
        "  re.update_state(labels,y_max)\n",
        "  acc.update_state(labels,y_max)"
      ]
    },
    {
      "cell_type": "code",
      "execution_count": 22,
      "metadata": {
        "id": "sXaKqak7HO2B"
      },
      "outputs": [],
      "source": [
        "f_score=(2*pre.result().numpy()*re.result().numpy())/(pre.result().numpy()+re.result().numpy())"
      ]
    },
    {
      "cell_type": "code",
      "execution_count": 23,
      "metadata": {
        "id": "vXUmWz_3AzUr",
        "colab": {
          "base_uri": "https://localhost:8080/"
        },
        "outputId": "a6ea592f-164f-4d5e-b727-60c8fbd27d9b"
      },
      "outputs": [
        {
          "output_type": "stream",
          "name": "stdout",
          "text": [
            "Precision: 1.0, Recall: 0.995708167552948, Accuracy: 0.996874988079071, F Score: 0.99784943911475\n"
          ]
        }
      ],
      "source": [
        "print(f'Precision: {pre.result().numpy()}, Recall: {re.result().numpy()}, Accuracy: {acc.result().numpy()}, F Score: {f_score}')"
      ]
    },
    {
      "cell_type": "code",
      "execution_count": 24,
      "metadata": {
        "id": "8mnJ-hQR8lPL",
        "colab": {
          "base_uri": "https://localhost:8080/",
          "height": 821
        },
        "outputId": "72de1883-b8fc-485b-ced4-cdf95456c3ef"
      },
      "outputs": [
        {
          "output_type": "display_data",
          "data": {
            "text/plain": [
              "<Figure size 1000x1000 with 2 Axes>"
            ],
            "image/png": "[encoded data removed]"
          },
          "metadata": {}
        }
      ],
      "source": [
        "confusion_matrix=metrics.confusion_matrix(True_label,Predicted_label,normalize='true')\n",
        "cm_display = metrics.ConfusionMatrixDisplay(confusion_matrix = confusion_matrix, display_labels = ['1-1', '1-2','1-4','PURE'])\n",
        "fig, ax = plt.subplots(figsize=(10,10))\n",
        "cm_display.plot(ax=ax)\n",
        "plt.show();\n",
        "fig.savefig('/content/drive/MyDrive/Project_2/CNN_Model_Related/CNN_Model_Related_White/Confusion_Matrix.eps', format='eps', dpi=600)"
      ]
    },
    {
      "cell_type": "markdown",
      "metadata": {
        "id": "e6cf_9VqFDeE"
      },
      "source": [
        "### Demonstrating how to use the model"
      ]
    },
    {
      "cell_type": "code",
      "execution_count": 25,
      "metadata": {
        "id": "VGVArk3JuqIh"
      },
      "outputs": [],
      "source": [
        "img=image.load_img('/content/drive/MyDrive/Project_2/BLACK_WHITE/WHITE/1-4/CR_W_DU_1-4_010.jpg',target_size=(256,256))"
      ]
    },
    {
      "cell_type": "code",
      "execution_count": 26,
      "metadata": {
        "id": "mlSEanHNv0yv"
      },
      "outputs": [],
      "source": [
        "x=image.img_to_array(img)"
      ]
    },
    {
      "cell_type": "code",
      "execution_count": 27,
      "metadata": {
        "id": "Ytjm1xNNwDiw"
      },
      "outputs": [],
      "source": [
        "x=x/255"
      ]
    },
    {
      "cell_type": "code",
      "execution_count": 28,
      "metadata": {
        "id": "O2XVAJk9wEOb",
        "colab": {
          "base_uri": "https://localhost:8080/"
        },
        "outputId": "469d5cfe-d76d-490a-a49d-211ce17bcd9e"
      },
      "outputs": [
        {
          "output_type": "execute_result",
          "data": {
            "text/plain": [
              "(1, 256, 256, 3)"
            ]
          },
          "metadata": {},
          "execution_count": 28
        }
      ],
      "source": [
        "x=np.expand_dims(x,axis=0)\n",
        "x.shape"
      ]
    },
    {
      "cell_type": "code",
      "execution_count": 29,
      "metadata": {
        "id": "Z0WCmtaYwGAy",
        "colab": {
          "base_uri": "https://localhost:8080/"
        },
        "outputId": "dce23996-9913-464a-b6df-2fcccc4d9aca"
      },
      "outputs": [
        {
          "output_type": "stream",
          "name": "stdout",
          "text": [
            "1/1 [==============================] - 0s 178ms/step\n"
          ]
        }
      ],
      "source": [
        "pred=model.predict(x)"
      ]
    },
    {
      "cell_type": "code",
      "execution_count": 30,
      "metadata": {
        "id": "8Wxdt0m8wH0r",
        "colab": {
          "base_uri": "https://localhost:8080/"
        },
        "outputId": "044e6aaa-2ed0-4d8b-d677-02d34e20df6d"
      },
      "outputs": [
        {
          "output_type": "stream",
          "name": "stdout",
          "text": [
            "[[3.4873890e-22 2.0207316e-17 1.0000000e+00 1.1857498e-31]]\n"
          ]
        }
      ],
      "source": [
        "print(pred)"
      ]
    },
    {
      "cell_type": "code",
      "execution_count": 31,
      "metadata": {
        "id": "LLL9i03t1hBo",
        "colab": {
          "base_uri": "https://localhost:8080/"
        },
        "outputId": "cdf1fef2-685c-45a2-d1ad-01f33b345210"
      },
      "outputs": [
        {
          "output_type": "stream",
          "name": "stdout",
          "text": [
            "1-4\n"
          ]
        }
      ],
      "source": [
        "pred_name = CLASSES[np.argmax(pred)]\n",
        "print(pred_name)"
      ]
    }
  ],
  "metadata": {
    "accelerator": "GPU",
    "colab": {
      "provenance": []
    },
    "gpuClass": "standard",
    "kernelspec": {
      "display_name": "Python 3 (ipykernel)",
      "language": "python",
      "name": "python3"
    },
    "language_info": {
      "codemirror_mode": {
        "name": "ipython",
        "version": 3
      },
      "file_extension": ".py",
      "mimetype": "text/x-python",
      "name": "python",
      "nbconvert_exporter": "python",
      "pygments_lexer": "ipython3",
      "version": "3.9.13"
    },
    "vscode": {
      "interpreter": {
        "hash": "b302cdd1e032ee910f5c889c3360c28564c92ad4f326fc3102e39fbe47faee66"
      }
    }
  },
  "nbformat": 4,
  "nbformat_minor": 0
}